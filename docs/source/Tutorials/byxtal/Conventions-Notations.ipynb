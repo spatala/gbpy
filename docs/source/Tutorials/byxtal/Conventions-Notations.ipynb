{
 "cells": [
  {
   "cell_type": "markdown",
   "metadata": {},
   "source": [
    "# Conventions and Notations used in **byxtal**\n",
    "\n",
    "1. A fixed **global** orthogonal Cartesian coordinate frame is denoted by a row of basis-vectors as:\n",
    "\n",
    "\\begin{equation}\n",
    "\\mathcal{B}_{GO} = \\left[ \\hat{e}_x, \\hat{e}_y, \\hat{e}_z \\right]\n",
    "\\end{equation}\n",
    "\n",
    "The subscript **GO** refers to the fact that the reference is global (**G**) and orthogonal (**O**).\n",
    "\n",
    "2. A vector is expressed as the product of a row of basis vectors and a column comprising the components of this vector along the basis vectors. For example, the vector $\\vec{a}$ in the Cartesian frame is expressed as:\n",
    "\n",
    "  \\begin{equation}\n",
    "    \\label{eq:vec}\n",
    "  \\vec{a} = \\left[ \\hat{e}_x, \\hat{e}_y, \\hat{e}_z \\right] \n",
    " \\begin{bmatrix}\n",
    " a_x \\\\ a_y \\\\ a_z\n",
    " \\end{bmatrix}\n",
    "  = \\mathcal{B}_{GO} \n",
    " \\begin{bmatrix}\n",
    " a_x \\\\ a_y \\\\ a_z\n",
    " \\end{bmatrix}\n",
    " = \\mathcal{B}_{GO} a_{GO}    \n",
    "  \\end{equation}\n",
    "\n",
    "Here, $ a_{GO}$ refers to the column vector of components of $\\vec{a}$ expressed in the global orthogonal Cartesian coordinate reference frame ($GO$).\n",
    "\n",
    "\n",
    "3. A Bravais lattice, with Pearson symbol $P$, is denoted as $\\mathcal{B}_{P}$ and is defined by the basis vectors spanning the **primitive unit cell**, i.e.,\n",
    "\n",
    "\\begin{equation}\n",
    "\\mathcal{B}_{P}= [\\vec{a} ,\\, \\vec{b} ,\\, \\vec{c}]\n",
    "\\end{equation}\n",
    "\n",
    "4. If one were to use the components of the vectors in the $GO$ reference frame, then:\n",
    "\n",
    "\\begin{equation}\n",
    "\\mathcal{B}_{P}= \\mathcal{B}_{GO} [ a_{GO}, \\, b_{GO}, \\, c_{GO}] = \\mathcal{B}_{GO} \\Lambda_{P}^{GO}\n",
    "\\end{equation}\n",
    "\n",
    "where $\\Lambda_{P}^{GO}$ is a $3 \\times 3$ matrix of components of the basis vectors in the $GO$ reference frame."
   ]
  }
 ],
 "metadata": {
  "kernelspec": {
   "display_name": "Python 3",
   "language": "python",
   "name": "python3"
  },
  "language_info": {
   "codemirror_mode": {
    "name": "ipython",
    "version": 3
   },
   "file_extension": ".py",
   "mimetype": "text/x-python",
   "name": "python",
   "nbconvert_exporter": "python",
   "pygments_lexer": "ipython3",
   "version": "3.8.8"
  }
 },
 "nbformat": 4,
 "nbformat_minor": 4
}
