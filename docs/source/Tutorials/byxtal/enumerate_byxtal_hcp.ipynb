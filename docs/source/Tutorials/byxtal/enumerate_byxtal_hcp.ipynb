{
 "cells": [
  {
   "cell_type": "markdown",
   "metadata": {},
   "source": [
    "# Computing the bicrystallographic aspects of Misorientations (FCC lattice)"
   ]
  },
  {
   "cell_type": "code",
   "execution_count": 1,
   "metadata": {},
   "outputs": [],
   "source": [
    "import byxtal.lattice as gbl;\n",
    "import byxtal.csl_utility_functions as cuf;\n",
    "import byxtal.find_csl_dsc as fcd;\n",
    "import numpy as np;\n",
    "import byxtal.tools as bxt;\n",
    "import byxtal.misorient_fz as mfz;\n",
    "import byxtal.disorient_symm_props as dsp;\n",
    "from sympy.matrices import Matrix, eye, zeros;"
   ]
  },
  {
   "cell_type": "markdown",
   "metadata": {},
   "source": [
    "Define the lattice: Here we use the `lattice` module and use the default option. The default option will initialize a cubic lattice with $a = 1$."
   ]
  },
  {
   "cell_type": "code",
   "execution_count": 26,
   "metadata": {},
   "outputs": [],
   "source": [
    "l1 = gbl.Lattice('hP_Id')\n",
    "sig_type = 'common'\n",
    "l_p_po = Matrix(l1.l_p_po)"
   ]
  },
  {
   "cell_type": "markdown",
   "metadata": {},
   "source": [
    "First, initialize the $\\Sigma$ number of interest. Note that for cubic crystals, CSL rotations exist only for odd-values of $\\Sigma$."
   ]
  },
  {
   "cell_type": "code",
   "execution_count": 27,
   "metadata": {},
   "outputs": [],
   "source": [
    "sig_num = 7"
   ]
  },
  {
   "cell_type": "markdown",
   "metadata": {},
   "source": [
    "The function `csl_rotations` in the module `byxtal.csl_utility_functions`, will compute the $\\Sigma$ rotation (a misorientation) in the reference frame of the primitive cell."
   ]
  },
  {
   "cell_type": "code",
   "execution_count": 28,
   "metadata": {},
   "outputs": [
    {
     "name": "stdout",
     "output_type": "stream",
     "text": [
      "{'N': array([[[ 8., -3.,  0.],\n",
      "        [ 3.,  5.,  0.],\n",
      "        [ 0.,  0.,  7.]]]), 'D': array([[[7., 7., 7.],\n",
      "        [7., 7., 7.],\n",
      "        [7., 7., 7.]]])}\n"
     ]
    }
   ],
   "source": [
    "s1 = cuf.csl_rotations(sig_num, sig_type, l1);\n",
    "print(s1)"
   ]
  },
  {
   "cell_type": "markdown",
   "metadata": {},
   "source": [
    "As can be obsrved from the output above, there exist multiple rotations that correspond to a given $\\Sigma$ number. This is usually the case when $\\Sigma$ is large. In the following, we will compute the bycrystallography properties for one of the misorientations (e.g. corresponding to the second rotation in the array). The bycrystallography properties of interest are as follows:\n",
    "+ The Coincidence Site Lattice (CSL). For more details, refer to this [tutorial](https://www.tf.uni-kiel.de/matwis/amat/def_en/kap_7/backbone/r7_1_2.html).\n",
    "+ The DSC lattice that defines the **D**isplacements that are **S**ymmetry **C**onserving (also referred to as the **D**isplacement **S**hift **C**omplete). For more details, refer to this [tutorial](https://www.tf.uni-kiel.de/matwis/amat/def_en/kap_7/backbone/r7_1_3.html)\n",
    "+ The boundary-plane symmetry group, and the symmetry axes. For more details refer to the following article:\n",
    "    - [**Symmetries in the representation of grain boundary-plane distributions**](https://www.tandfonline.com/doi/full/10.1080/14786435.2012.722700?casa_token=4nDY3LLK9vQAAAAA%3AgECePf6JCdOPx6K_7cfxrJATdUAwMOSe3-F5NIdpjuI26uAPQfkkSTa61np1AWoDGQ3wcJrh3SS9). Patala, S., & Schuh, C. A. (2013). . Philosophical Magazine, 93(5), 524-573."
   ]
  },
  {
   "cell_type": "code",
   "execution_count": 29,
   "metadata": {},
   "outputs": [
    {
     "name": "stdout",
     "output_type": "stream",
     "text": [
      "7_1\n"
     ]
    }
   ],
   "source": [
    "ct1 = 1\n",
    "sig_id = str(sig_num)+'_'+str(ct1)\n",
    "print(sig_id)"
   ]
  },
  {
   "cell_type": "markdown",
   "metadata": {},
   "source": [
    "The $\\Sigma$-misorientation is a rotation operation that is defined in the $P$ lattice reference frame and is computed as shown in the code snippet below. We use the variable `T_p1top2_p1` denote the **T**ransformation (`T`) from the $P1$ lattice to the $P2$ lattice (`p1top2`) expressed in the $P1$ reference frame (`p1`)."
   ]
  },
  {
   "cell_type": "code",
   "execution_count": 30,
   "metadata": {},
   "outputs": [
    {
     "name": "stdout",
     "output_type": "stream",
     "text": [
      "[[ 1.14285714 -0.42857143  0.        ]\n",
      " [ 0.42857143  0.71428571  0.        ]\n",
      " [ 0.          0.          1.        ]]\n"
     ]
    }
   ],
   "source": [
    "T_p1top2_p1 = s1['N'][ct1-1]/s1['D'][ct1-1]\n",
    "print(T_p1top2_p1)"
   ]
  },
  {
   "cell_type": "markdown",
   "metadata": {},
   "source": [
    "The **CSL** and the **DSC** lattice are determined using the `find_csl_dsc` function in the `byxtal.find_csl_dsc` module. The lattices are expressed using the basis vectors of the primitive cell $(P1)$. The following varibales are used:\n",
    "+ `l_csl_p`: The lattice (`l`) of the CSL (`csl`) expressed in the primitive reference frame (`p`).\n",
    "+ `l_dsc_p`: The lattice (`l`) of the DSC (`dsc`) expressed in the primitive reference frame (`p`)."
   ]
  },
  {
   "cell_type": "code",
   "execution_count": 31,
   "metadata": {},
   "outputs": [
    {
     "ename": "Exception",
     "evalue": "Lattice Reduction did not work.",
     "output_type": "error",
     "traceback": [
      "\u001b[0;31m---------------------------------------------------------------------------\u001b[0m",
      "\u001b[0;31mException\u001b[0m                                 Traceback (most recent call last)",
      "\u001b[0;32m<ipython-input-31-1ec823c9f592>\u001b[0m in \u001b[0;36m<module>\u001b[0;34m\u001b[0m\n\u001b[1;32m      2\u001b[0m \u001b[0mTI_p1top2_p1\u001b[0m \u001b[0;34m=\u001b[0m \u001b[0mT_p1top2_p1\u001b[0m\u001b[0;34m*\u001b[0m\u001b[0msig_num\u001b[0m\u001b[0;34m\u001b[0m\u001b[0;34m\u001b[0m\u001b[0m\n\u001b[1;32m      3\u001b[0m \u001b[0mTI_p1top2_p1\u001b[0m \u001b[0;34m=\u001b[0m \u001b[0mMatrix\u001b[0m\u001b[0;34m(\u001b[0m\u001b[0;34m(\u001b[0m\u001b[0mnp\u001b[0m\u001b[0;34m.\u001b[0m\u001b[0maround\u001b[0m\u001b[0;34m(\u001b[0m\u001b[0mTI_p1top2_p1\u001b[0m\u001b[0;34m)\u001b[0m\u001b[0;34m)\u001b[0m\u001b[0;34m.\u001b[0m\u001b[0mastype\u001b[0m\u001b[0;34m(\u001b[0m\u001b[0mint\u001b[0m\u001b[0;34m)\u001b[0m\u001b[0;34m)\u001b[0m\u001b[0;34m\u001b[0m\u001b[0;34m\u001b[0m\u001b[0m\n\u001b[0;32m----> 4\u001b[0;31m \u001b[0ml_csl_p\u001b[0m \u001b[0;34m=\u001b[0m \u001b[0mfcd\u001b[0m\u001b[0;34m.\u001b[0m\u001b[0mcsl_finder\u001b[0m\u001b[0;34m(\u001b[0m\u001b[0mTI_p1top2_p1\u001b[0m\u001b[0;34m,\u001b[0m \u001b[0msig_num\u001b[0m\u001b[0;34m,\u001b[0m \u001b[0ml_p_po\u001b[0m\u001b[0;34m,\u001b[0m \u001b[0;36m1e-6\u001b[0m\u001b[0;34m)\u001b[0m\u001b[0;34m\u001b[0m\u001b[0;34m\u001b[0m\u001b[0m\n\u001b[0m\u001b[1;32m      5\u001b[0m \u001b[0mprint\u001b[0m\u001b[0;34m(\u001b[0m\u001b[0ml_csl_p\u001b[0m\u001b[0;34m)\u001b[0m\u001b[0;34m\u001b[0m\u001b[0;34m\u001b[0m\u001b[0m\n",
      "\u001b[0;32m~/Dropbox/NCSU_Research/Repos/gbpy_packaging/byxtal_env/byxtal/byxtal/byxtal/find_csl_dsc.py\u001b[0m in \u001b[0;36mcsl_finder\u001b[0;34m(TI_p1top2_p1, Sigma, l_p_po, tol1)\u001b[0m\n\u001b[1;32m     57\u001b[0m \u001b[0;32mdef\u001b[0m \u001b[0mcsl_finder\u001b[0m\u001b[0;34m(\u001b[0m\u001b[0mTI_p1top2_p1\u001b[0m\u001b[0;34m,\u001b[0m \u001b[0mSigma\u001b[0m\u001b[0;34m,\u001b[0m \u001b[0ml_p_po\u001b[0m\u001b[0;34m,\u001b[0m \u001b[0mtol1\u001b[0m\u001b[0;34m)\u001b[0m\u001b[0;34m:\u001b[0m\u001b[0;34m\u001b[0m\u001b[0;34m\u001b[0m\u001b[0m\n\u001b[1;32m     58\u001b[0m     \u001b[0ml_csl_p\u001b[0m \u001b[0;34m=\u001b[0m \u001b[0mcsl_finder_smith\u001b[0m\u001b[0;34m(\u001b[0m\u001b[0mTI_p1top2_p1\u001b[0m\u001b[0;34m,\u001b[0m \u001b[0mSigma\u001b[0m\u001b[0;34m)\u001b[0m\u001b[0;34m\u001b[0m\u001b[0;34m\u001b[0m\u001b[0m\n\u001b[0;32m---> 59\u001b[0;31m     \u001b[0ml_csl_p\u001b[0m \u001b[0;34m=\u001b[0m \u001b[0mlt\u001b[0m\u001b[0;34m.\u001b[0m\u001b[0mreduce_po_lat\u001b[0m\u001b[0;34m(\u001b[0m\u001b[0ml_csl_p\u001b[0m\u001b[0;34m,\u001b[0m \u001b[0ml_p_po\u001b[0m\u001b[0;34m,\u001b[0m \u001b[0mtol1\u001b[0m\u001b[0;34m)\u001b[0m\u001b[0;34m\u001b[0m\u001b[0;34m\u001b[0m\u001b[0m\n\u001b[0m\u001b[1;32m     60\u001b[0m     \u001b[0ml_csl_p\u001b[0m \u001b[0;34m=\u001b[0m \u001b[0mmake_right_handed\u001b[0m\u001b[0;34m(\u001b[0m\u001b[0ml_csl_p\u001b[0m\u001b[0;34m,\u001b[0m \u001b[0ml_p_po\u001b[0m\u001b[0;34m)\u001b[0m\u001b[0;34m\u001b[0m\u001b[0;34m\u001b[0m\u001b[0m\n\u001b[1;32m     61\u001b[0m     \u001b[0mN1\u001b[0m\u001b[0;34m,\u001b[0m \u001b[0ml_csl_p\u001b[0m \u001b[0;34m=\u001b[0m \u001b[0mint_man\u001b[0m\u001b[0;34m.\u001b[0m\u001b[0mint_mult\u001b[0m\u001b[0;34m(\u001b[0m\u001b[0mMatrix\u001b[0m\u001b[0;34m(\u001b[0m\u001b[0ml_csl_p\u001b[0m\u001b[0;34m)\u001b[0m\u001b[0;34m)\u001b[0m\u001b[0;34m\u001b[0m\u001b[0;34m\u001b[0m\u001b[0m\n",
      "\u001b[0;32m~/Dropbox/NCSU_Research/Repos/gbpy_packaging/byxtal_env/byxtal/byxtal/byxtal/lll_tools.py\u001b[0m in \u001b[0;36mreduce_po_lat\u001b[0;34m(l_dsc_p, l_p_po, tol1)\u001b[0m\n\u001b[1;32m     37\u001b[0m             \u001b[0;32mraise\u001b[0m \u001b[0mException\u001b[0m\u001b[0;34m(\u001b[0m\u001b[0;34m\"Lattice Reduction did not work.\"\u001b[0m\u001b[0;34m)\u001b[0m\u001b[0;34m\u001b[0m\u001b[0;34m\u001b[0m\u001b[0m\n\u001b[1;32m     38\u001b[0m     \u001b[0;32melse\u001b[0m\u001b[0;34m:\u001b[0m\u001b[0;34m\u001b[0m\u001b[0;34m\u001b[0m\u001b[0m\n\u001b[0;32m---> 39\u001b[0;31m         \u001b[0;32mraise\u001b[0m \u001b[0mException\u001b[0m\u001b[0;34m(\u001b[0m\u001b[0;34m\"Lattice Reduction did not work.\"\u001b[0m\u001b[0;34m)\u001b[0m\u001b[0;34m\u001b[0m\u001b[0;34m\u001b[0m\u001b[0m\n\u001b[0m\u001b[1;32m     40\u001b[0m \u001b[0;31m# -----------------------------------------------------------------------------------------------------------\u001b[0m\u001b[0;34m\u001b[0m\u001b[0;34m\u001b[0m\u001b[0;34m\u001b[0m\u001b[0m\n\u001b[1;32m     41\u001b[0m \u001b[0;34m\u001b[0m\u001b[0m\n",
      "\u001b[0;31mException\u001b[0m: Lattice Reduction did not work."
     ]
    }
   ],
   "source": [
    "T_p1top2_p1 = np.array(T_p1top2_p1, dtype='double')\n",
    "TI_p1top2_p1 = T_p1top2_p1*sig_num\n",
    "TI_p1top2_p1 = Matrix((np.around(TI_p1top2_p1)).astype(int))\n",
    "l_csl_p = fcd.csl_finder(TI_p1top2_p1, sig_num, l_p_po, 1e-6)\n",
    "print(l_csl_p)\n"
   ]
  },
  {
   "cell_type": "code",
   "execution_count": 11,
   "metadata": {},
   "outputs": [],
   "source": [
    "l_csl_p1 = (l_csl_p.copy())"
   ]
  },
  {
   "cell_type": "code",
   "execution_count": 20,
   "metadata": {},
   "outputs": [],
   "source": [
    "l_p2_p1 = Matrix(T_p1top2_p1)\n",
    "l_p1_p2 = l_p2_p1.inv()"
   ]
  },
  {
   "cell_type": "code",
   "execution_count": 23,
   "metadata": {},
   "outputs": [
    {
     "name": "stdout",
     "output_type": "stream",
     "text": [
      "Matrix([[1.00000000000000, -2.00000000000000, 0], [1.00000000000000, 1.00000000000000, -2.00000000000000], [1.00000000000000, 0, 1.00000000000000]])\n"
     ]
    }
   ],
   "source": [
    "l_csl_p2 = l_p1_p2*l_csl_p1\n",
    "print(l_csl_p2)"
   ]
  },
  {
   "cell_type": "code",
   "execution_count": 22,
   "metadata": {},
   "outputs": [
    {
     "name": "stdout",
     "output_type": "stream",
     "text": [
      "l_csl_po is defined in the l_p1_po lattice\n",
      "l_csl_po is defined in the l_p2_po lattice\n",
      "V(csl_po)/V(p1_po) = Sigma =  7\n"
     ]
    },
    {
     "data": {
      "text/latex": [
       "$\\displaystyle \\text{True}$"
      ],
      "text/plain": [
       "True"
      ]
     },
     "execution_count": 22,
     "metadata": {},
     "output_type": "execute_result"
    }
   ],
   "source": [
    "fcd.check_csl(l_csl_p, l_p_po, T_p1top2_p1, 7, True)"
   ]
  },
  {
   "cell_type": "code",
   "execution_count": 25,
   "metadata": {},
   "outputs": [
    {
     "data": {
      "text/plain": [
       "array([[1., 0., 0.],\n",
       "       [0., 1., 0.],\n",
       "       [0., 0., 1.]])"
      ]
     },
     "execution_count": 25,
     "metadata": {},
     "output_type": "execute_result"
    }
   ],
   "source": [
    "l1.l_p_po"
   ]
  },
  {
   "cell_type": "code",
   "execution_count": null,
   "metadata": {},
   "outputs": [],
   "source": []
  }
 ],
 "metadata": {
  "kernelspec": {
   "display_name": "byxtal",
   "language": "python",
   "name": "byxtal"
  },
  "language_info": {
   "codemirror_mode": {
    "name": "ipython",
    "version": 3
   },
   "file_extension": ".py",
   "mimetype": "text/x-python",
   "name": "python",
   "nbconvert_exporter": "python",
   "pygments_lexer": "ipython3",
   "version": "3.7.3"
  }
 },
 "nbformat": 4,
 "nbformat_minor": 4
}
