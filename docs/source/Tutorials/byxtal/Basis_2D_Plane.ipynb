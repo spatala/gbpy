{
 "cells": [
  {
   "cell_type": "markdown",
   "metadata": {},
   "source": [
    "# Determine the 2D Basis of a Plane"
   ]
  },
  {
   "cell_type": "markdown",
   "metadata": {},
   "source": [
    "The first step in simulating interfaces is the determination of the two-dimensional periodicity (i.e. the basis vectors) of the plane. The interfaces are two-dimensional sections of the underlying three-dimensional lattice, and hence, the interface will exhibit the periodicity of the corresponding 2D lattice of the plane. The technique to determine the basis vectors is outlined in the following article:\n",
    "\n",
    "[**An efficient algorithm for computing the primitive bases of a general lattice plane.**](https://scripts.iucr.org/cgi-bin/paper?rg5087)\n",
    "Journal of Applied Crystallography\n",
    "Banadaki, A. D., & Patala, S. (2015). , 48(2), 585-588.\n",
    "\n",
    "In this tutorial, we will discuss the steps involved in determining the basis vectors of the 2D plane using the **byxtal** package. Please follow the installation steps (link needed!!) to acquire the byxtal package and import all the required packages that we need for completing this tutorial."
   ]
  },
  {
   "cell_type": "markdown",
   "metadata": {},
   "source": [
    "## Miller Indices and Conventions:\n",
    "\n",
    "1. Miller Indices are often used to refer to a given crystallographic plane in crystals. \n",
    "2. However, various conventions are commonly used in determining the Miller Indices that can change the indices of the plane. For example, in the FCC lattice, one could either use the cubic unit-cell or the primitive cell to index planes and directions, resulting in completely different indices for the same plane. Therefore, we would like to declare our conventions in defining the Miller Indices to avoid potential confusion. \n",
    "3. By definition, the Miller indices of a plane, denoted by $(h \\, k \\, l)$, refer to the indices of the lattice vector perpendicular to the plane expressed in the reciprocal lattice. Therefore, the indices will depend on the reference lattice used (e.g. the cubic unit-cell or the primitive cell).\n",
    "4. In the **byxtal** package, we perform the calculations in the primitve cell. The reason simply is that, in the primitive lattice, all the lattice points are expressed using integers. This helps with some of the algebraic manipulations that are preformed in the package.\n",
    "5. **Unless otherwise specified, the indices in byxtal package are in reference to the primitve cell.**\n",
    "6. In the present tutorial, we also discuss how to convert the indices from one reference frame to the other (e.g. from the primitive cell to the cubic unit-cell).\n",
    "\n",
    "\n",
    "[//]: # \"Miller Indices are defined as the reciprocal of intercepts of a crystallographic plane with the Unit Cell Basis Vectors. The confusion is often caused by the definition of the Unit Cell. In f.c.c and b.c.c lattices primitive basis vectors are non-orthogonal while the supercell basis vectors are orthogonal. Most importantly since the reciprocal and direct lattices are the identical in f.c.c and b.c.c, the Miller Indices (defined in supercell unit cell) are the same as the plane normal indices. This unique property and convenience of using an orthogonal set of basis vectors is the root cause of the bipartisan approach to defining the Miller Indices. The downfall of such an approach is the fact that it does not have much utility in other types of lattices e.g. hcp. Therefore in GBpy whenever we use the term Miller Indices, we are referring to the reciprocals of intercepts of a crystallographic plane with the primitive Basis Vectors.\"\n",
    "[//]: # (Miller Indices: reciprocal of intercepts of a crystallographic plane with the primitive Basis Vectors, or alternatively, Miller Indices: normal vector indices of the plane defined in primitive reciprocal lattice. The above interchangeable definitions are consistently used in GBpy for referring to Miller Indices. Other conventions in defining the Miller Indices are ultimately converted to the above definition. In the present tutorial we manually extract various Indices and demonstrate how they can be fed to the GBpy. In practice such conversions are not necessary as long as the user is consistent with the definitions of GBpy, and can be used for verifying the answer.)\n",
    "\n",
    "Let's start with importing the **byxtal** package and other modules that we will use in this tutorial."
   ]
  },
  {
   "cell_type": "code",
   "execution_count": 1,
   "metadata": {},
   "outputs": [],
   "source": [
    "import byxtal as bxt\n",
    "import numpy as np\n",
    "from sympy.matrices import Matrix, eye, zeros;"
   ]
  },
  {
   "cell_type": "markdown",
   "metadata": {},
   "source": [
    "## Problem Definition:\n",
    "\n",
    "In the tutorial, we will determine the planar basis of a crystallographic plane in the FCC lattice. Consider the plane whose normal vector is along the direction $[2 3 1]$ expressed in the cubic unit-cell reference frame. Since the normal vector to the plane is provided in the orthogonal unit-cell basis, we will first determine the Miller Indices of the plane (using the primitive cell bases)."
   ]
  },
  {
   "cell_type": "markdown",
   "metadata": {},
   "source": [
    "### Finding Miller Indices:\n",
    "\n",
    "A vector in the space can be expressed in any basis, of course with varying components. Vector $\\vec{v}$ in basis A can be expressed as:\n",
    "\n",
    "\\begin{equation}\n",
    "\\vec{v} = \\mathcal{B}_A v_A\n",
    "\\end{equation}\n",
    "\n",
    "Similarly we can define the plane normal $\\vec{n}$ in any basis. For instance we can define $\\vec{n}$ in unit-cell basis ($\\mathcal{B}_{PO}$) or in primitive-cell basis $\\mathcal{B}_P$; we can write:\n",
    "\n",
    "\\begin{equation}\n",
    "\\vec{n} = \\mathcal{B}_{PO} n_{PO} = \\mathcal{B}_{P} n_{P}\n",
    "\\end{equation}\n",
    "\n",
    "The conversion from one basis to the other can be determined by using the components of the basis vectors of one of the frames (e.g. $P$) in the other frame (e.g. $PO$):\n",
    "\n",
    "\\begin{equation}\n",
    "\\mathcal{B}_{P} = \\mathcal{B}_{PO} \\Lambda_{P}^{PO}\n",
    "\\end{equation}\n",
    "\n",
    "where, $\\Lambda_P^{PO}$ is a $3 \\times 3$ matrix with its columns representing the components of basis vectors of $P$ frame in the $PO$ basis. For example, for an FCC lattice, $\\Lambda_P^{PO}$ is given below."
   ]
  },
  {
   "cell_type": "code",
   "execution_count": 2,
   "metadata": {},
   "outputs": [
    {
     "data": {
      "text/latex": [
       "$\\displaystyle \\left[\\begin{matrix}0 & 0.5 & 0.5\\\\0.5 & 0 & 0.5\\\\0.5 & 0.5 & 0\\end{matrix}\\right]$"
      ],
      "text/plain": [
       "Matrix([\n",
       "[  0, 0.5, 0.5],\n",
       "[0.5,   0, 0.5],\n",
       "[0.5, 0.5,   0]])"
      ]
     },
     "execution_count": 2,
     "metadata": {},
     "output_type": "execute_result"
    }
   ],
   "source": [
    "l_p_po = 1.0 * Matrix([[0.,0.5,0.5],[0.5,0.,0.5],[0.5,0.5,0.]])\n",
    "l_p_po"
   ]
  },
  {
   "cell_type": "markdown",
   "metadata": {},
   "source": [
    "We can now determine the components of the vector $\\vec{n}$ in the $P$ reference frame as follows:\n",
    "\n",
    "\\begin{align}\n",
    "\\mathcal{B}_{P} n_{P} &= \\mathcal{B}_{PO} n_{P0} \\\\ \\nonumber\n",
    "\\mathcal{B}_{PO} \\Lambda_{P}^{PO} n_{P} &= \\mathcal{B}_{PO} n_{P0} \\\\ \\nonumber\n",
    "\\Lambda_{P}^{PO} n_{P} &= \\mathcal{B}_{PO} n_{P0} \\\\ \\nonumber\n",
    "n_{P} &= \\Lambda_{PO}^{P} n_{P0}\n",
    "\\end{align}\n",
    "\n",
    "where $\\Lambda_{P}^{PO} = \\left( \\Lambda_{PO}^{P} \\right)^{-1}$.\n",
    "\n",
    "\n",
    "1. **To determine the Miller indices**, we have to express the components of the normal vector $\\vec{n}$ in the reference frame of the reciprocal lattice (the reciprocal of the primitive cell).\n",
    "\n",
    "2. The basis vectors of the reciprocal of the primitve lattice are denoted using the symbol $\\mathcal{B}^*_{P}$, and are given in the $PO$ reference frame as:\n",
    "\n",
    "\\begin{equation}\n",
    "\\mathcal{B}^*_{P} = \\mathcal{B}_{PO} \\Lambda_{P*}^{PO}\n",
    "\\end{equation}\n",
    "\n",
    "3. $\\Lambda_{P*}^{PO}$ can be computed using the byxtal package using the function `bxt.find_csl_dsc.reciprocal_mat()`. For the sake of convenience we abbreviate the imported module `bxt.find_csl_dsc` as `fcd`. The code is shown below."
   ]
  },
  {
   "cell_type": "code",
   "execution_count": 3,
   "metadata": {},
   "outputs": [
    {
     "data": {
      "text/latex": [
       "$\\displaystyle \\left[\\begin{matrix}-1.0 & 1.0 & 1.0\\\\1.0 & -1.0 & 1.0\\\\1.0 & 1.0 & -1.0\\end{matrix}\\right]$"
      ],
      "text/plain": [
       "Matrix([\n",
       "[-1.0,  1.0,  1.0],\n",
       "[ 1.0, -1.0,  1.0],\n",
       "[ 1.0,  1.0, -1.0]])"
      ]
     },
     "execution_count": 3,
     "metadata": {},
     "output_type": "execute_result"
    }
   ],
   "source": [
    "import byxtal.find_csl_dsc as fcd\n",
    "l_rp_po = fcd.reciprocal_mat(l_p_po)\n",
    "l_rp_po"
   ]
  },
  {
   "cell_type": "markdown",
   "metadata": {},
   "source": [
    "where we use the variable `l_rp_po` to represent $\\Lambda_{P*}^{PO}$. Now, we can determine the indices of $\\vec{n}$ in the $P^*$ reference frame, using equation (4) as:\n",
    "\n",
    "\\begin{equation}\n",
    "n_{P^*} = \\Lambda_{PO}^{P*} n_{P0}\n",
    "\\end{equation}\n",
    "\n",
    "Use the following code to determine the components $n_{P^*}$:"
   ]
  },
  {
   "cell_type": "code",
   "execution_count": 4,
   "metadata": {},
   "outputs": [
    {
     "data": {
      "text/latex": [
       "$\\displaystyle \\left[\\begin{matrix}2.0\\\\1.5\\\\2.5\\end{matrix}\\right]$"
      ],
      "text/plain": [
       "Matrix([\n",
       "[2.0],\n",
       "[1.5],\n",
       "[2.5]])"
      ]
     },
     "execution_count": 4,
     "metadata": {},
     "output_type": "execute_result"
    }
   ],
   "source": [
    "l_po_rp = (l_rp_po).inv()\n",
    "n_po = Matrix([[2], [3], [1]])\n",
    "n_rp = l_po_rp*n_po\n",
    "n_rp"
   ]
  },
  {
   "cell_type": "markdown",
   "metadata": {},
   "source": [
    "Remember, that the Miller Indices ought to be integers (without common factors). We have to find a common scaling factor for all the components such that the result is going to be scalar. We have implemented a function named `int_finder` that performs this task for a variety of input types (e.g. rows and columns of matrices). For irrational numbers int_finder accepts a tolerance and performs the same operation on the closest rational number within the specified tolerance. You can find this function in the package as: `byxtal.integer_manipulations.int_finder()`. Therefore, we repeat the previous steps and pass the results to the `int_finder` function to obtain the integer Miller indices."
   ]
  },
  {
   "cell_type": "code",
   "execution_count": 5,
   "metadata": {},
   "outputs": [
    {
     "data": {
      "text/latex": [
       "$\\displaystyle \\left[\\begin{matrix}4\\\\3\\\\5\\end{matrix}\\right]$"
      ],
      "text/plain": [
       "Matrix([\n",
       "[4],\n",
       "[3],\n",
       "[5]])"
      ]
     },
     "execution_count": 5,
     "metadata": {},
     "output_type": "execute_result"
    }
   ],
   "source": [
    "import byxtal.integer_manipulations as iman\n",
    "ni_rp = iman.int_finder(n_rp)\n",
    "ni_rp"
   ]
  },
  {
   "cell_type": "markdown",
   "metadata": {},
   "source": [
    "## Finding the Planar Basis:\n",
    "\n",
    "1. From the previous section, we found the Miller Indices of an FCC plane with the normal along $n_{PO} = [2 3 1]$ to be $(4 3 5)$. \n",
    "\n",
    "2. Now all we have to do is to pass the obtained indices to `bp_basis`, which is a function that gets the Miller Indices (expressed using the primitive cell) as the input and returns a $3 \\times 2$ matrix, where the columns represent the components of the basis vectors in the primitive $(P)$ reference frame.\n",
    "\n",
    "3. Also the obtained vectors are in the [reduced form](https://en.wikipedia.org/wiki/Lenstra%E2%80%93Lenstra%E2%80%93Lov%C3%A1sz_lattice_basis_reduction_algorithm). You can find the bp_basis function in the following path: `byxtal.bp_basis.bp_basis()`. To find the basis vector of a plane with the Miller Indices of $(4 3 5)$ use the following syntax:"
   ]
  },
  {
   "cell_type": "code",
   "execution_count": 6,
   "metadata": {},
   "outputs": [
    {
     "data": {
      "text/latex": [
       "$\\displaystyle \\left[\\begin{matrix}2.0 & 1.0\\\\-1.0 & 2.0\\\\-1.0 & -2.0\\end{matrix}\\right]$"
      ],
      "text/plain": [
       "Matrix([\n",
       "[ 2.0,  1.0],\n",
       "[-1.0,  2.0],\n",
       "[-1.0, -2.0]])"
      ]
     },
     "execution_count": 6,
     "metadata": {},
     "output_type": "execute_result"
    }
   ],
   "source": [
    "import byxtal.bp_basis as bpb\n",
    "l_2D_p = Matrix(bpb.bp_basis(ni_rp))\n",
    "l_2D_p"
   ]
  },
  {
   "cell_type": "markdown",
   "metadata": {},
   "source": [
    "To express the obtained basis in the orthogonal basis (i.e. supercell f.c.c) one needs to perform the following conversion of bases:\n",
    "\n",
    "\\begin{equation}\n",
    "\\Lambda_{2D}^{PO} = \\Lambda_{P}^{PO} \\times \\Lambda_{2D}^{P}\n",
    "\\end{equation}\n"
   ]
  },
  {
   "cell_type": "code",
   "execution_count": 7,
   "metadata": {},
   "outputs": [
    {
     "data": {
      "text/latex": [
       "$\\displaystyle \\left[\\begin{matrix}-1.0 & 0\\\\0.5 & -0.5\\\\0.5 & 1.5\\end{matrix}\\right]$"
      ],
      "text/plain": [
       "Matrix([\n",
       "[-1.0,    0],\n",
       "[ 0.5, -0.5],\n",
       "[ 0.5,  1.5]])"
      ]
     },
     "execution_count": 7,
     "metadata": {},
     "output_type": "execute_result"
    }
   ],
   "source": [
    "l_2D_po = l_p_po*l_2D_p\n",
    "l_2D_po"
   ]
  },
  {
   "cell_type": "markdown",
   "metadata": {},
   "source": [
    "## Summary\n",
    "\n",
    "1. At the interface of a bicrystal, the $\\Lambda_{2D}^{PO}$ provides a basis for the interface. \n",
    "2. If the two crystals are related to each other by a $\\Sigma$-rotation, the obtained $\\Lambda_{2D}^{po}$ is the two-dimensional basis for the two-dimensional coincidence site lattice at the interface. Therefore, the bicrystal conserves its periodicity in the obtained 2D-basis. \n",
    "3. In other words the obtained basis is in fact the basis for the unit cell of the bicrystal and since it is in the reduced form, it is going to have the least skewness, hence ideal for constructing a periodic simulation box.\n",
    "\n",
    "The above process is frquently repeated for simulation of grain boundaries. Therefore, we have developed a set of functions that make the conversion of indices more convenient and will accept various conventions for the Miller Indices. Please refer to the grain boundary 2D-CSL tutorial for how to use these functions."
   ]
  }
 ],
 "metadata": {
  "kernelspec": {
   "display_name": "Python 3",
   "language": "python",
   "name": "python3"
  },
  "language_info": {
   "codemirror_mode": {
    "name": "ipython",
    "version": 3
   },
   "file_extension": ".py",
   "mimetype": "text/x-python",
   "name": "python",
   "nbconvert_exporter": "python",
   "pygments_lexer": "ipython3",
   "version": "3.6.9"
  }
 },
 "nbformat": 4,
 "nbformat_minor": 4
}
