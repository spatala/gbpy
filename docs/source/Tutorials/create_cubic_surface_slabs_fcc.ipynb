{
 "cells": [
  {
   "cell_type": "markdown",
   "metadata": {},
   "source": [
    "# Create Surface Slabs in FCC Crystals\n",
    "\n",
    "In this code, a slab for simulating free-surfaces are created. For given Miller indices $(h \\, k \\, l)$ of the plane, input configuration containing the simulation-cell and atoms is created.\n",
    "\n",
    "1. Load relevant modules\n",
    "2. Define necessary parameters\n",
    "    + Miller indices\n",
    "    + Lattice (e.g. Aluminum)\n",
    "    + Cut-off radius (r_cut) and area (a_cut)\n",
    "3. Compute basis-vectos of the 2D lattice of the $(h \\, k \\, l)$ plane\n",
    "4. Compute the basis-vectors of sublattice with r_cut and a_cut constraints\n",
    "    + Determine appropriate $\\Sigma$ using a_cut\n",
    "    + Generate unique set of sub-lattices (HNF matrices and LLL reduction) "
   ]
  },
  {
   "cell_type": "code",
   "execution_count": 1,
   "metadata": {},
   "outputs": [],
   "source": [
    "import byxtal.lattice as gbl\n",
    "import byxtal.integer_manipulations as iman\n",
    "import byxtal.bp_basis as bpb\n",
    "import numpy as np\n",
    "import numpy.linalg as nla\n",
    "import math as mt\n",
    "import gbpy.util_funcs_create_byxtal as uf\n",
    "import gbpy.generate_hkl_indices as ghi"
   ]
  }
 ],
 "metadata": {
  "kernelspec": {
   "display_name": "Python 3",
   "language": "python",
   "name": "python3"
  },
  "language_info": {
   "codemirror_mode": {
    "name": "ipython",
    "version": 3
   },
   "file_extension": ".py",
   "mimetype": "text/x-python",
   "name": "python",
   "nbconvert_exporter": "python",
   "pygments_lexer": "ipython3",
   "version": "3.6.9"
  }
 },
 "nbformat": 4,
 "nbformat_minor": 4
}
