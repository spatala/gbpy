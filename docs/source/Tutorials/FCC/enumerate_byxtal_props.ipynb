{
 "cells": [
  {
   "cell_type": "markdown",
   "metadata": {},
   "source": [
    "# Compute Bicrystallographic properties\n",
    "\n",
    "In this code, we compute and save the bicrystallography properties for each $\\Sigma$-miorientation. These properties include:\n",
    "1. `sig_mats`: The $\\Sigma$-miorientation in the primitive $p$ reference frame. For example, we use the variable `T_p1top2_p1`\n",
    "2. `csl_mats`: The CSL lattice basis vectors in the primitive $p$ reference frame. For example, we use the variable `l_csl_p` denoting $\\Lambda_{csl}^p$\n",
    "3. `dsc_mats`: The DSC lattice basis vectors in the primitive $p$ reference frame. For example, we use the variable `l_dsc_p` denoting $\\Lambda_{dsc}^p$\n",
    "4. `bxt_symm_props`: The symmetry aspects of the $\\Sigma$-miorientation\n",
    "    + `bxt_symm_grp`: The point-group symmetry of the bicrystal. This is the symmetry for the Boundary-plane orientations.\n",
    "    + `symm_grp_ax`: The axes of the symmetry point-group."
   ]
  },
  {
   "cell_type": "code",
   "execution_count": 1,
   "metadata": {},
   "outputs": [],
   "source": [
    "import sys\n",
    "sys.path.insert(0, './../../../../gbpy/')\n",
    "import byxtal.lattice as gbl\n",
    "import byxtal.csl_utility_functions as cuf\n",
    "import byxtal.find_csl_dsc as fcd\n",
    "import numpy as np\n",
    "import byxtal.tools as gbt\n",
    "import byxtal.misorient_fz as mfz\n",
    "import byxtal.disorient_symm_props as dsp"
   ]
  },
  {
   "cell_type": "markdown",
   "metadata": {},
   "source": [
    "1. `l1`: The lattice object.\n",
    "2. `l_p_po`: $\\Lambda_p^{po}$"
   ]
  },
  {
   "cell_type": "code",
   "execution_count": 2,
   "metadata": {},
   "outputs": [
    {
     "ename": "NameError",
     "evalue": "name 'Matrix' is not defined",
     "output_type": "error",
     "traceback": [
      "\u001b[0;31m---------------------------------------------------------------------------\u001b[0m",
      "\u001b[0;31mNameError\u001b[0m                                 Traceback (most recent call last)",
      "\u001b[0;32m<ipython-input-2-0ea1f0f89914>\u001b[0m in \u001b[0;36m<module>\u001b[0;34m\u001b[0m\n\u001b[1;32m     15\u001b[0m \u001b[0;34m\u001b[0m\u001b[0m\n\u001b[1;32m     16\u001b[0m \u001b[0;32mfor\u001b[0m \u001b[0msig_num\u001b[0m \u001b[0;32min\u001b[0m \u001b[0msig_nums\u001b[0m\u001b[0;34m:\u001b[0m\u001b[0;34m\u001b[0m\u001b[0;34m\u001b[0m\u001b[0m\n\u001b[0;32m---> 17\u001b[0;31m     \u001b[0ms1\u001b[0m \u001b[0;34m=\u001b[0m \u001b[0mcuf\u001b[0m\u001b[0;34m.\u001b[0m\u001b[0mcsl_rotations\u001b[0m\u001b[0;34m(\u001b[0m\u001b[0msig_num\u001b[0m\u001b[0;34m,\u001b[0m \u001b[0msig_type\u001b[0m\u001b[0;34m,\u001b[0m \u001b[0ml1\u001b[0m\u001b[0;34m)\u001b[0m\u001b[0;34m\u001b[0m\u001b[0;34m\u001b[0m\u001b[0m\n\u001b[0m\u001b[1;32m     18\u001b[0m     \u001b[0;32mfor\u001b[0m \u001b[0mct1\u001b[0m \u001b[0;32min\u001b[0m \u001b[0mrange\u001b[0m\u001b[0;34m(\u001b[0m\u001b[0mnp\u001b[0m\u001b[0;34m.\u001b[0m\u001b[0mshape\u001b[0m\u001b[0;34m(\u001b[0m\u001b[0ms1\u001b[0m\u001b[0;34m[\u001b[0m\u001b[0;34m'N'\u001b[0m\u001b[0;34m]\u001b[0m\u001b[0;34m)\u001b[0m\u001b[0;34m[\u001b[0m\u001b[0;36m0\u001b[0m\u001b[0;34m]\u001b[0m\u001b[0;34m)\u001b[0m\u001b[0;34m:\u001b[0m\u001b[0;34m\u001b[0m\u001b[0;34m\u001b[0m\u001b[0m\n\u001b[1;32m     19\u001b[0m         \u001b[0msymm_grp_props\u001b[0m \u001b[0;34m=\u001b[0m \u001b[0;34m{\u001b[0m\u001b[0;34m}\u001b[0m\u001b[0;34m\u001b[0m\u001b[0;34m\u001b[0m\u001b[0m\n",
      "\u001b[0;32m~/Leila_sndhard/codes/gbpy/gbpy/gbpy/byxtal/csl_utility_functions.py\u001b[0m in \u001b[0;36mcsl_rotations\u001b[0;34m(sigma, sig_type, lat_type)\u001b[0m\n\u001b[1;32m   1137\u001b[0m         \u001b[0;31m# Check that r_g1tog2_g1 are rational with lcm of denominator matrices\u001b[0m\u001b[0;34m\u001b[0m\u001b[0;34m\u001b[0m\u001b[0;34m\u001b[0m\u001b[0m\n\u001b[1;32m   1138\u001b[0m         \u001b[0;31m# equal to $\\Sigman$\u001b[0m\u001b[0;34m\u001b[0m\u001b[0;34m\u001b[0m\u001b[0;34m\u001b[0m\u001b[0m\n\u001b[0;32m-> 1139\u001b[0;31m         \u001b[0msig_rots\u001b[0m \u001b[0;34m=\u001b[0m \u001b[0mcheck_sigma_rots\u001b[0m\u001b[0;34m(\u001b[0m\u001b[0mr_g1tog2_g1\u001b[0m\u001b[0;34m,\u001b[0m \u001b[0msigma\u001b[0m\u001b[0;34m)\u001b[0m\u001b[0;34m\u001b[0m\u001b[0;34m\u001b[0m\u001b[0m\n\u001b[0m\u001b[1;32m   1140\u001b[0m         \u001b[0;32mreturn\u001b[0m \u001b[0msig_rots\u001b[0m\u001b[0;34m\u001b[0m\u001b[0;34m\u001b[0m\u001b[0m\n\u001b[1;32m   1141\u001b[0m \u001b[0;34m\u001b[0m\u001b[0m\n",
      "\u001b[0;32m~/Leila_sndhard/codes/gbpy/gbpy/gbpy/byxtal/csl_utility_functions.py\u001b[0m in \u001b[0;36mcheck_sigma_rots\u001b[0;34m(r_g1tog2_g1, sigma)\u001b[0m\n\u001b[1;32m   1007\u001b[0m     \u001b[0;32mfor\u001b[0m \u001b[0mi\u001b[0m \u001b[0;32min\u001b[0m \u001b[0mrange\u001b[0m\u001b[0;34m(\u001b[0m\u001b[0mmsz\u001b[0m\u001b[0;34m)\u001b[0m\u001b[0;34m:\u001b[0m\u001b[0;34m\u001b[0m\u001b[0;34m\u001b[0m\u001b[0m\n\u001b[1;32m   1008\u001b[0m         \u001b[0mtmat\u001b[0m \u001b[0;34m=\u001b[0m \u001b[0mr_g1tog2_g1\u001b[0m\u001b[0;34m[\u001b[0m\u001b[0mi\u001b[0m\u001b[0;34m,\u001b[0m \u001b[0;34m:\u001b[0m\u001b[0;34m,\u001b[0m \u001b[0;34m:\u001b[0m\u001b[0;34m]\u001b[0m\u001b[0;34m\u001b[0m\u001b[0;34m\u001b[0m\u001b[0m\n\u001b[0;32m-> 1009\u001b[0;31m         \u001b[0mN1\u001b[0m\u001b[0;34m,\u001b[0m \u001b[0mmult1\u001b[0m \u001b[0;34m=\u001b[0m \u001b[0mint_man\u001b[0m\u001b[0;34m.\u001b[0m\u001b[0mint_approx\u001b[0m\u001b[0;34m(\u001b[0m\u001b[0mtmat\u001b[0m\u001b[0;34m,\u001b[0m \u001b[0;36m1e-06\u001b[0m\u001b[0;34m)\u001b[0m\u001b[0;34m\u001b[0m\u001b[0;34m\u001b[0m\u001b[0m\n\u001b[0m\u001b[1;32m   1010\u001b[0m         \u001b[0;32mif\u001b[0m \u001b[0mabs\u001b[0m\u001b[0;34m(\u001b[0m\u001b[0mmult1\u001b[0m\u001b[0;34m-\u001b[0m\u001b[0msigma\u001b[0m\u001b[0;34m)\u001b[0m \u001b[0;34m>\u001b[0m \u001b[0;36m1e-06\u001b[0m\u001b[0;34m:\u001b[0m\u001b[0;34m\u001b[0m\u001b[0;34m\u001b[0m\u001b[0m\n\u001b[1;32m   1011\u001b[0m             \u001b[0mt_check\u001b[0m \u001b[0;34m=\u001b[0m \u001b[0;36m0\u001b[0m\u001b[0;34m\u001b[0m\u001b[0;34m\u001b[0m\u001b[0m\n",
      "\u001b[0;32m~/Leila_sndhard/codes/gbpy/gbpy/gbpy/byxtal/integer_manipulations.py\u001b[0m in \u001b[0;36mint_approx\u001b[0;34m(Tmat, tol1)\u001b[0m\n\u001b[1;32m    247\u001b[0m     \u001b[0mmult2\u001b[0m \u001b[0;34m=\u001b[0m \u001b[0;36m1\u001b[0m\u001b[0;34m/\u001b[0m\u001b[0mnp\u001b[0m\u001b[0;34m.\u001b[0m\u001b[0mmax\u001b[0m\u001b[0;34m(\u001b[0m\u001b[0mnp\u001b[0m\u001b[0;34m.\u001b[0m\u001b[0mabs\u001b[0m\u001b[0;34m(\u001b[0m\u001b[0mTmat\u001b[0m\u001b[0;34m)\u001b[0m\u001b[0;34m)\u001b[0m\u001b[0;34m\u001b[0m\u001b[0;34m\u001b[0m\u001b[0m\n\u001b[1;32m    248\u001b[0m \u001b[0;34m\u001b[0m\u001b[0m\n\u001b[0;32m--> 249\u001b[0;31m     \u001b[0mint_mat1\u001b[0m\u001b[0;34m,\u001b[0m \u001b[0mt1_mult\u001b[0m\u001b[0;34m,\u001b[0m \u001b[0merr1\u001b[0m \u001b[0;34m=\u001b[0m \u001b[0mmult_fac_err\u001b[0m\u001b[0;34m(\u001b[0m\u001b[0mTmat\u001b[0m\u001b[0;34m,\u001b[0m \u001b[0mmult1\u001b[0m\u001b[0;34m,\u001b[0m \u001b[0mtol1\u001b[0m\u001b[0;34m)\u001b[0m\u001b[0;34m\u001b[0m\u001b[0;34m\u001b[0m\u001b[0m\n\u001b[0m\u001b[1;32m    250\u001b[0m     \u001b[0mint_mat2\u001b[0m\u001b[0;34m,\u001b[0m \u001b[0mt2_mult\u001b[0m\u001b[0;34m,\u001b[0m \u001b[0merr2\u001b[0m \u001b[0;34m=\u001b[0m \u001b[0mmult_fac_err\u001b[0m\u001b[0;34m(\u001b[0m\u001b[0mTmat\u001b[0m\u001b[0;34m,\u001b[0m \u001b[0mmult2\u001b[0m\u001b[0;34m,\u001b[0m \u001b[0mtol1\u001b[0m\u001b[0;34m)\u001b[0m\u001b[0;34m\u001b[0m\u001b[0;34m\u001b[0m\u001b[0m\n\u001b[1;32m    251\u001b[0m \u001b[0;34m\u001b[0m\u001b[0m\n",
      "\u001b[0;32m~/Leila_sndhard/codes/gbpy/gbpy/gbpy/byxtal/integer_manipulations.py\u001b[0m in \u001b[0;36mmult_fac_err\u001b[0;34m(Tmat, mult1, tol1)\u001b[0m\n\u001b[1;32m    310\u001b[0m     \u001b[0mint_mat1\u001b[0m \u001b[0;34m=\u001b[0m \u001b[0mnp\u001b[0m\u001b[0;34m.\u001b[0m\u001b[0marray\u001b[0m\u001b[0;34m(\u001b[0m\u001b[0;34m(\u001b[0m\u001b[0mN1\u001b[0m\u001b[0;34m/\u001b[0m\u001b[0mD1\u001b[0m\u001b[0;34m)\u001b[0m\u001b[0;34m*\u001b[0m\u001b[0mlcm1\u001b[0m\u001b[0;34m,\u001b[0m \u001b[0mdtype\u001b[0m\u001b[0;34m=\u001b[0m\u001b[0;34m'double'\u001b[0m\u001b[0;34m)\u001b[0m\u001b[0;34m\u001b[0m\u001b[0;34m\u001b[0m\u001b[0m\n\u001b[1;32m    311\u001b[0m \u001b[0;34m\u001b[0m\u001b[0m\n\u001b[0;32m--> 312\u001b[0;31m     \u001b[0mcond1\u001b[0m \u001b[0;34m=\u001b[0m \u001b[0mcheck_int_mat\u001b[0m\u001b[0;34m(\u001b[0m\u001b[0mint_mat1\u001b[0m\u001b[0;34m,\u001b[0m \u001b[0mtol1\u001b[0m\u001b[0;34m*\u001b[0m\u001b[0;36m0.01\u001b[0m\u001b[0;34m)\u001b[0m\u001b[0;34m\u001b[0m\u001b[0;34m\u001b[0m\u001b[0m\n\u001b[0m\u001b[1;32m    313\u001b[0m     \u001b[0;32mif\u001b[0m \u001b[0mcond1\u001b[0m\u001b[0;34m:\u001b[0m\u001b[0;34m\u001b[0m\u001b[0;34m\u001b[0m\u001b[0m\n\u001b[1;32m    314\u001b[0m         \u001b[0mint_mat1\u001b[0m \u001b[0;34m=\u001b[0m \u001b[0mnp\u001b[0m\u001b[0;34m.\u001b[0m\u001b[0maround\u001b[0m\u001b[0;34m(\u001b[0m\u001b[0mint_mat1\u001b[0m\u001b[0;34m)\u001b[0m\u001b[0;34m\u001b[0m\u001b[0;34m\u001b[0m\u001b[0m\n",
      "\u001b[0;32m~/Leila_sndhard/codes/gbpy/gbpy/gbpy/byxtal/integer_manipulations.py\u001b[0m in \u001b[0;36mcheck_int_mat\u001b[0;34m(T, tol1)\u001b[0m\n\u001b[1;32m    182\u001b[0m         \u001b[0;32mFalse\u001b[0m\u001b[0;34m:\u001b[0m \u001b[0mIf\u001b[0m \u001b[0mthe\u001b[0m \u001b[0mmatrix\u001b[0m \u001b[0mdoes\u001b[0m \u001b[0;32mnot\u001b[0m \u001b[0mhave\u001b[0m \u001b[0minteger\u001b[0m \u001b[0melements\u001b[0m\u001b[0;34m.\u001b[0m\u001b[0;34m\u001b[0m\u001b[0;34m\u001b[0m\u001b[0m\n\u001b[1;32m    183\u001b[0m     \"\"\"\n\u001b[0;32m--> 184\u001b[0;31m     \u001b[0;32mif\u001b[0m \u001b[0misinstance\u001b[0m\u001b[0;34m(\u001b[0m\u001b[0mT\u001b[0m\u001b[0;34m,\u001b[0m \u001b[0mMatrix\u001b[0m\u001b[0;34m)\u001b[0m\u001b[0;34m:\u001b[0m\u001b[0;34m\u001b[0m\u001b[0;34m\u001b[0m\u001b[0m\n\u001b[0m\u001b[1;32m    185\u001b[0m         \u001b[0mT\u001b[0m \u001b[0;34m=\u001b[0m \u001b[0mnp\u001b[0m\u001b[0;34m.\u001b[0m\u001b[0marray\u001b[0m\u001b[0;34m(\u001b[0m\u001b[0mT\u001b[0m\u001b[0;34m,\u001b[0m \u001b[0mdtype\u001b[0m\u001b[0;34m=\u001b[0m\u001b[0;34m'double'\u001b[0m\u001b[0;34m)\u001b[0m\u001b[0;34m\u001b[0m\u001b[0;34m\u001b[0m\u001b[0m\n\u001b[1;32m    186\u001b[0m     \u001b[0;32mreturn\u001b[0m \u001b[0;34m(\u001b[0m\u001b[0mnp\u001b[0m\u001b[0;34m.\u001b[0m\u001b[0mmax\u001b[0m\u001b[0;34m(\u001b[0m\u001b[0mnp\u001b[0m\u001b[0;34m.\u001b[0m\u001b[0mabs\u001b[0m\u001b[0;34m(\u001b[0m\u001b[0mT\u001b[0m \u001b[0;34m-\u001b[0m \u001b[0mnp\u001b[0m\u001b[0;34m.\u001b[0m\u001b[0maround\u001b[0m\u001b[0;34m(\u001b[0m\u001b[0mT\u001b[0m\u001b[0;34m)\u001b[0m\u001b[0;34m)\u001b[0m\u001b[0;34m)\u001b[0m \u001b[0;34m<\u001b[0m \u001b[0mtol1\u001b[0m\u001b[0;34m)\u001b[0m\u001b[0;34m\u001b[0m\u001b[0;34m\u001b[0m\u001b[0m\n",
      "\u001b[0;31mNameError\u001b[0m: name 'Matrix' is not defined"
     ]
    }
   ],
   "source": [
    "l1 = gbl.Lattice('Al')\n",
    "sig_type = 'common'\n",
    "l_p_po = l1.l_p_po\n",
    "\n",
    "### For cubic only odd Sigma numbers exist!\n",
    "n1 = 1\n",
    "n2 = 10\n",
    "sig_nums = 2*np.arange(n1,n2)+1\n",
    "\n",
    "num_sigs = 0\n",
    "sig_mats = {}\n",
    "csl_mats = {}\n",
    "dsc_mats = {}\n",
    "bxt_symm_props = {}\n",
    "\n",
    "for sig_num in sig_nums:\n",
    "    s1 = cuf.csl_rotations(sig_num, sig_type, l1)\n",
    "    for ct1 in range(np.shape(s1['N'])[0]):\n",
    "        symm_grp_props = {}\n",
    "        sig_id = str(sig_num)+'_'+str(ct1+1)\n",
    "        print(sig_id)\n",
    "        #### Store the sigma-misorientation (in 'p' reference frame)\n",
    "        T_p1top2_p1 = s1['N'][ct1]/s1['D'][ct1]\n",
    "        sig_mats[sig_id] = T_p1top2_p1\n",
    "\n",
    "#         l_csl_p, l_dsc_p = fcd.find_csl_dsc(l_p_po, T_p1top2_p1, 1e-6, False)\n",
    "        l_csl_p = fcd.find_csl_dsc(l_p_po, T_p1top2_p1, 1e-6, False)\n",
    "        csl_mats[sig_id] = l_csl_p\n",
    "#         dsc_mats[sig_id] = l_dsc_p;\n",
    "\n",
    "        #### Generate boundary-planpe orientations\n",
    "        l_p_po = l1.l_p_po\n",
    "        l_po_p = np.linalg.inv(l_p_po)\n",
    "        T_p1top2_po1 = np.dot(l_p_po, np.dot(T_p1top2_p1, l_po_p))\n",
    "\n",
    "        ## Find the corresponding disorientation\n",
    "        quat1 = gbt.mat2quat(T_p1top2_po1)\n",
    "        # print(quat1)\n",
    "        dis_quat1 = mfz.misorient_fz(quat1, l1.cryst_ptgrp)\n",
    "        # print(dis_quat1)\n",
    "        x_g, y_g, z_g, bxt_symm_grp = dsp.disorient_symm_props(dis_quat1, l1.cryst_ptgrp)\n",
    "        symm_grp_ax = (np.vstack((x_g, y_g, z_g))).transpose()\n",
    "        symm_grp_props['symm_grp_ax'] = symm_grp_ax\n",
    "        symm_grp_props['bxt_symm_grp'] = bxt_symm_grp\n",
    "        bxt_symm_props[sig_id] = symm_grp_props\n",
    "        num_sigs = num_sigs + 1\n",
    "        print(num_sigs)\n",
    "\n",
    "import pickle as pkl;\n",
    "pkl_name = l1.elem_type+'_byxtal_props.pkl'\n",
    "csl_props = {}\n",
    "csl_props['sig_mats'] = sig_mats\n",
    "csl_props['csl_mats'] = csl_mats\n",
    "csl_props['dsc_mats'] = dsc_mats\n",
    "csl_props['csl_symm_props'] = bxt_symm_props\n",
    "\n",
    "jar = open(pkl_name, 'wb')\n",
    "pkl.dump(csl_props, jar)\n",
    "jar.close()"
   ]
  },
  {
   "cell_type": "code",
   "execution_count": null,
   "metadata": {},
   "outputs": [],
   "source": [
    "csl_props"
   ]
  },
  {
   "cell_type": "code",
   "execution_count": null,
   "metadata": {},
   "outputs": [],
   "source": []
  }
 ],
 "metadata": {
  "kernelspec": {
   "display_name": "Python 3",
   "language": "python",
   "name": "python3"
  },
  "language_info": {
   "codemirror_mode": {
    "name": "ipython",
    "version": 3
   },
   "file_extension": ".py",
   "mimetype": "text/x-python",
   "name": "python",
   "nbconvert_exporter": "python",
   "pygments_lexer": "ipython3",
   "version": "3.6.9"
  }
 },
 "nbformat": 4,
 "nbformat_minor": 4
}
