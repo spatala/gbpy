{
 "cells": [
  {
   "cell_type": "code",
   "execution_count": 16,
   "metadata": {},
   "outputs": [],
   "source": [
    "import sys\n",
    "import gbpy.byxtal.tools as gbt\n",
    "import gbpy.byxtal.lattice as gbl\n",
    "import pickle as pkl\n",
    "import numpy as np\n",
    "import numpy.linalg as nla\n",
    "import gbpy.byxtal.misorient_fz as mfz\n",
    "import gbpy.generate_hkl_indices as ghi"
   ]
  },
  {
   "cell_type": "code",
   "execution_count": 136,
   "metadata": {},
   "outputs": [],
   "source": [
    "# p_n = [0,0,1]\n",
    "# import numpy.linalg as nla\n",
    "# import gbpy.byxtal.find_csl_dsc as fcd\n",
    "# l_rp_po = fcd.reciprocal_mat(l_p_po)\n",
    "# l_po_rp = nla.inv(l_rp_po)\n",
    "# n_po = np.array([p_n[0], p_n[1], p_n[2]])\n",
    "# n_rp = l_po_rp.dot(n_po)/l1.lat_params['a']\n",
    "# import gbpy.byxtal.integer_manipulations as iman\n",
    "# ni_rp = iman.int_finder(n_rp)\n",
    "# print(ni_rp)"
   ]
  },
  {
   "cell_type": "code",
   "execution_count": 120,
   "metadata": {},
   "outputs": [
    {
     "name": "stdout",
     "output_type": "stream",
     "text": [
      "[-1  3 -3]\n"
     ]
    }
   ],
   "source": [
    "p_n = [0,-2,1]\n",
    "import numpy.linalg as nla\n",
    "import gbpy.byxtal.find_csl_dsc as fcd\n",
    "l_rp_po = fcd.reciprocal_mat(l_p_po)\n",
    "l_po_rp = nla.inv(l_rp_po)\n",
    "n_po = np.array([p_n[0], p_n[1], p_n[2]])\n",
    "n_rp = l_rp_po.dot(n_po)/l1.lat_params['a']\n",
    "import gbpy.byxtal.integer_manipulations as iman\n",
    "ni_rp = iman.int_finder(n_rp)\n",
    "print(ni_rp)"
   ]
  },
  {
   "cell_type": "code",
   "execution_count": 121,
   "metadata": {},
   "outputs": [],
   "source": [
    "######################################################################\n",
    "###### Boundary-plane matrix properties with A_cut\n",
    "#####################################################################\n",
    "l1=gbl.Lattice('Al')\n",
    "pkl_name = l1.elem_type+'_byxtal_props.pkl'\n",
    "jar = open(pkl_name,'rb')\n",
    "s1=pkl.load(jar)\n",
    "jar.close()\n",
    "\n",
    "sig_mats = s1['sig_mats']\n",
    "csl_mats = s1['csl_mats']\n",
    "dsc_mats = s1['dsc_mats']\n",
    "bxt_symm_props = s1['csl_symm_props']\n",
    "\n",
    "l_p_po = l1.l_p_po\n",
    "\n",
    "num1 = 3"
   ]
  },
  {
   "cell_type": "code",
   "execution_count": 129,
   "metadata": {},
   "outputs": [
    {
     "name": "stdout",
     "output_type": "stream",
     "text": [
      "3_1\n",
      "5_1\n"
     ]
    }
   ],
   "source": [
    "s1_keys = list(bxt_symm_props.keys())[0:2]\n",
    "hkl_sig_inds = {}\n",
    "\n",
    "for sig_id in s1_keys:\n",
    "    # sig_id = s1_keys[0]\n",
    "# for ct1 in range(10):\n",
    "#     sig_id = s1_keys[ct1]\n",
    "    print(sig_id)\n",
    "\n",
    "    l_p_po = l1.l_p_po\n",
    "    l_po_p = nla.inv(l_p_po)\n",
    "\n",
    "    bp_symm_grp = bxt_symm_props[sig_id]['bxt_symm_grp']\n",
    "    symm_grp_ax = bxt_symm_props[sig_id]['symm_grp_ax']\n",
    "    l_csl_p = csl_mats[sig_id]\n",
    "\n",
    "\n",
    "    l_csl_po = l_p_po.dot(l_csl_p)\n",
    "    l_csl_props = {}\n",
    "\n",
    "    l_csl_props['l_csl_po'] = l_csl_po\n",
    "    l_csl_props['symm_grp_ax'] = symm_grp_ax\n",
    "    l_csl_props['bp_symm_grp'] = bp_symm_grp\n",
    "\n",
    "    hkl_inds = ghi.gen_hkl_props(l_csl_props, num1)\n",
    "    hkl_sig_inds[sig_id] = ni_rp\n",
    "    "
   ]
  },
  {
   "cell_type": "code",
   "execution_count": 130,
   "metadata": {},
   "outputs": [],
   "source": [
    "l1 = gbl.Lattice('Al')\n",
    "lat_par = l1.lat_params['a']\n",
    "rCut = lat_par*3\n",
    "A_cut = (rCut+lat_par)**2\n",
    "\n",
    "l_p_po = l1.l_p_po\n",
    "l_po_p = nla.inv(l_p_po)"
   ]
  },
  {
   "cell_type": "code",
   "execution_count": 131,
   "metadata": {},
   "outputs": [],
   "source": [
    "s1_keys = list(hkl_sig_inds.keys())\n",
    "ind1 = 1\n",
    "sig_id = s1_keys[ind1]\n",
    "hkl_inds = hkl_sig_inds[sig_id]\n",
    "l_csl_p1 = csl_mats[sig_id]\n",
    "l_csl_po1 = l_p_po.dot(l_csl_p1)"
   ]
  },
  {
   "cell_type": "code",
   "execution_count": 132,
   "metadata": {},
   "outputs": [],
   "source": [
    "tct1 = 0\n",
    "hkl1 = np.zeros((1,3), dtype='int64')\n",
    "# hkl_inds = np.array([0,0,1])\n",
    "hkl1 = hkl_inds.reshape(1,3)"
   ]
  },
  {
   "cell_type": "code",
   "execution_count": 133,
   "metadata": {},
   "outputs": [
    {
     "data": {
      "text/plain": [
       "array([[-1,  3, -3]])"
      ]
     },
     "execution_count": 133,
     "metadata": {},
     "output_type": "execute_result"
    }
   ],
   "source": [
    "hkl1"
   ]
  },
  {
   "cell_type": "code",
   "execution_count": 134,
   "metadata": {},
   "outputs": [],
   "source": [
    "import gbpy.util_funcs_create_byxtal as uf\n",
    "l_CSLbpb_CSLp = {}\n",
    "l_CSLbpbSig_CSLp = {}\n",
    "\n",
    "l_CSLbpb_CSLp_mat = ghi.compute_hkl_bpb(hkl1)\n",
    "l_CSLbpbSig_CSLp_mat = ghi.gen_Acut_bpb(l_CSLbpb_CSLp_mat, l_csl_po1, rCut, A_cut)\n",
    "\n",
    "l_Cbpb_Cp  = l_CSLbpb_CSLp_mat[0]\n",
    "l_CRbpb_Cp = l_CSLbpbSig_CSLp_mat[0]\n",
    "\n",
    "l_bp_po1 = l_csl_po1.dot(l_CRbpb_Cp)\n",
    "\n",
    "symm_grp_ax = bxt_symm_props[sig_id]['symm_grp_ax'];\n",
    "bp_symm_grp = bxt_symm_props[sig_id]['bxt_symm_grp'];\n",
    "\n",
    "l_p2_p1 = sig_mats[sig_id] \n",
    "gb_ID = uf.get_gb_uID(l1, l_bp_po1, l_p2_p1, l_p_po, bp_symm_grp, symm_grp_ax, sig_id)"
   ]
  },
  {
   "cell_type": "code",
   "execution_count": 135,
   "metadata": {},
   "outputs": [
    {
     "data": {
      "text/plain": [
       "'Al_S5_1_N1_15_-17_11_N2_-15_7_-19'"
      ]
     },
     "execution_count": 135,
     "metadata": {},
     "output_type": "execute_result"
    }
   ],
   "source": [
    "gb_ID"
   ]
  },
  {
   "cell_type": "code",
   "execution_count": 111,
   "metadata": {},
   "outputs": [],
   "source": [
    "import gbpy.byxtal.pick_fz_bpl as pfb\n",
    "bpn_go1 = np.cross(l_bp_po1[:, 0], l_bp_po1[:, 1])\n",
    "bpn_go1 = bpn_go1/nla.norm(bpn_go1)\n",
    "bpn_go1 = bpn_go1.reshape((1, 3))\n",
    "file_path = '/home/leila/Leila_sndhard/codes/gbpy/gbpy/gbpy/byxtal/data_files/symm_mats_D6.pkl'\n",
    "x_g = (symm_grp_ax[:, 0]); y_g = symm_grp_ax[:, 1]; z_g = symm_grp_ax[:, 2]\n",
    "symm_bpn_go1 = pfb.rot_symm(symm_grp_ax, bpn_go1, file_path)\n"
   ]
  },
  {
   "cell_type": "code",
   "execution_count": 112,
   "metadata": {},
   "outputs": [
    {
     "data": {
      "text/plain": [
       "array([[[ 0.00000000e+00,  8.94427191e-01, -4.47213595e-01]],\n",
       "\n",
       "       [[ 0.00000000e+00,  8.34511930e-01,  5.50989871e-01]],\n",
       "\n",
       "       [[-8.65956056e-17, -4.47213595e-01, -8.94427191e-01]],\n",
       "\n",
       "       [[ 0.00000000e+00, -5.99152609e-02,  9.98203467e-01]],\n",
       "\n",
       "       [[-1.18291797e-16, -9.98203467e-01, -5.99152609e-02]],\n",
       "\n",
       "       [[ 0.00000000e+00, -8.94427191e-01,  4.47213595e-01]],\n",
       "\n",
       "       [[-3.16961915e-17, -5.50989871e-01,  8.34511930e-01]],\n",
       "\n",
       "       [[ 0.00000000e+00, -8.34511930e-01, -5.50989871e-01]],\n",
       "\n",
       "       [[ 8.65956056e-17,  4.47213595e-01,  8.94427191e-01]],\n",
       "\n",
       "       [[ 0.00000000e+00,  5.99152609e-02, -9.98203467e-01]],\n",
       "\n",
       "       [[ 1.18291797e-16,  9.98203467e-01,  5.99152609e-02]],\n",
       "\n",
       "       [[ 3.16961915e-17,  5.50989871e-01, -8.34511930e-01]]])"
      ]
     },
     "execution_count": 112,
     "metadata": {},
     "output_type": "execute_result"
    }
   ],
   "source": [
    "symm_bpn_go1"
   ]
  },
  {
   "cell_type": "code",
   "execution_count": 117,
   "metadata": {},
   "outputs": [
    {
     "data": {
      "text/plain": [
       "array([[ 0, -2,  1]])"
      ]
     },
     "execution_count": 117,
     "metadata": {},
     "output_type": "execute_result"
    }
   ],
   "source": [
    "ni_rp = iman.int_finder(symm_bpn_go1[5])\n",
    "ni_rp"
   ]
  },
  {
   "cell_type": "code",
   "execution_count": 88,
   "metadata": {},
   "outputs": [
    {
     "data": {
      "text/plain": [
       "array([[-1,  1,  1]])"
      ]
     },
     "execution_count": 88,
     "metadata": {},
     "output_type": "execute_result"
    }
   ],
   "source": []
  },
  {
   "cell_type": "code",
   "execution_count": null,
   "metadata": {},
   "outputs": [],
   "source": []
  }
 ],
 "metadata": {
  "kernelspec": {
   "display_name": "Python 3",
   "language": "python",
   "name": "python3"
  },
  "language_info": {
   "codemirror_mode": {
    "name": "ipython",
    "version": 3
   },
   "file_extension": ".py",
   "mimetype": "text/x-python",
   "name": "python",
   "nbconvert_exporter": "python",
   "pygments_lexer": "ipython3",
   "version": "3.8.5"
  }
 },
 "nbformat": 4,
 "nbformat_minor": 4
}
