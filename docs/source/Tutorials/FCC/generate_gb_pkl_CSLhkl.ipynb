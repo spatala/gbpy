{
 "cells": [
  {
   "cell_type": "markdown",
   "metadata": {},
   "source": [
    "## Generate GB CSL hkl\n",
    "1. `l_Cbpb_Cp`: Basis of the 2D lattice in the CSLp reference frame for the given (hkl) plane.\n",
    "2. `l_CRbpb_Cp`: Basis of the 2D lattice such that the basis vectors have length that is greater than rCut and the basis vectors are similar in lengths and the angle between them is close to 90. Defined in the CSLp reference frame"
   ]
  },
  {
   "cell_type": "code",
   "execution_count": 1,
   "metadata": {},
   "outputs": [],
   "source": [
    "import byxtal.tools as gbt\n",
    "import byxtal.lattice as gbl\n",
    "import pickle as pkl\n",
    "import numpy as np\n",
    "import numpy.linalg as nla\n",
    "import byxtal.misorient_fz as mfz\n",
    "import gbpy.generate_hkl_indices as ghi\n",
    "import gbpy.util_funcs_create_byxtal as uf\n"
   ]
  },
  {
   "cell_type": "code",
   "execution_count": null,
   "metadata": {},
   "outputs": [],
   "source": []
  },
  {
   "cell_type": "code",
   "execution_count": 2,
   "metadata": {},
   "outputs": [],
   "source": [
    "########################################################################\n",
    "l1=gbl.Lattice('Al')\n",
    "pkl_name = l1.elem_type+'_byxtal_props.pkl'\n",
    "jar = open(pkl_name, 'rb');\n",
    "\n",
    "csl_props = pkl.load(jar)\n",
    "sig_mats = csl_props['sig_mats']\n",
    "csl_mats = csl_props['csl_mats']\n",
    "dsc_mats = csl_props['dsc_mats']\n",
    "bxt_symm_props = csl_props['csl_symm_props']\n",
    "jar.close()\n",
    "########################################################################\n",
    "\n",
    "########################################################################\n",
    "pkl_name = 'bp_list_' + l1.elem_type + '.pkl'\n",
    "jar = open(pkl_name, 'rb');\n",
    "\n",
    "bp_list = pkl.load(jar)\n",
    "l_p_po = bp_list['l_p_po']\n",
    "hkl_sig_inds = bp_list['miller_inds']\n",
    "\n",
    "jar.close()\n",
    "########################################################################\n"
   ]
  },
  {
   "cell_type": "code",
   "execution_count": 3,
   "metadata": {},
   "outputs": [],
   "source": [
    "l1 = gbl.Lattice('Al')\n",
    "lat_par = l1.lat_params['a']\n",
    "rCut = lat_par*3\n",
    "A_cut = (rCut+lat_par)**2\n",
    "\n",
    "l_p_po = l1.l_p_po\n",
    "l_po_p = nla.inv(l_p_po)\n"
   ]
  },
  {
   "cell_type": "code",
   "execution_count": 4,
   "metadata": {},
   "outputs": [],
   "source": [
    "s1_keys = list(hkl_sig_inds.keys())\n",
    "ind1 = 0\n",
    "sig_id = s1_keys[ind1]\n",
    "hkl_inds = hkl_sig_inds[sig_id]\n",
    "l_csl_p1 = csl_mats[sig_id]\n",
    "l_csl_po1 = l_p_po.dot(l_csl_p1)\n",
    "\n",
    "tct1 = 0\n",
    "hkl1 = np.zeros((1,3), dtype='int64')\n",
    "hkl1[0,:] = hkl_inds[tct1,:]"
   ]
  },
  {
   "cell_type": "code",
   "execution_count": 34,
   "metadata": {},
   "outputs": [],
   "source": [
    "# for num_ct in range(len(hkl_inds)):\n",
    "#     tct1 = num_ct\n",
    "#     hkl1 = np.zeros((1,3), dtype='int64')\n",
    "#     hkl1[0,:] = hkl_inds[tct1,:]\n",
    "#     print(num_ct)\n",
    "#     print(hkl1)\n",
    "#     l_CSLbpb_CSLp = {}\n",
    "#     l_CSLbpbSig_CSLp = {}\n",
    "\n",
    "#     l_CSLbpb_CSLp_mat = ghi.compute_hkl_bpb(hkl1)\n",
    "#     l_CSLbpbSig_CSLp_mat = ghi.gen_Acut_bpb(l_CSLbpb_CSLp_mat, l_csl_po1, rCut, A_cut)\n",
    "\n",
    "#     l_Cbpb_Cp  = l_CSLbpb_CSLp_mat[0]\n",
    "#     l_CRbpb_Cp = l_CSLbpbSig_CSLp_mat[0]\n",
    "\n",
    "#     l_bp_po1 = l_csl_po1.dot(l_CRbpb_Cp)\n",
    "\n",
    "#     symm_grp_ax = bxt_symm_props[sig_id]['symm_grp_ax'];\n",
    "#     bp_symm_grp = bxt_symm_props[sig_id]['bxt_symm_grp'];\n",
    "\n",
    "#     l_p2_p1 = sig_mats[sig_id]\n",
    "#     gb_ID = uf.get_gb_uID(l1, l_bp_po1, l_p2_p1, l_p_po, bp_symm_grp, symm_grp_ax, sig_id)\n",
    "#     print(gb_ID)"
   ]
  },
  {
   "cell_type": "code",
   "execution_count": 5,
   "metadata": {},
   "outputs": [
    {
     "ename": "IndexError",
     "evalue": "list index out of range",
     "output_type": "error",
     "traceback": [
      "\u001b[0;31m---------------------------------------------------------------------------\u001b[0m",
      "\u001b[0;31mIndexError\u001b[0m                                Traceback (most recent call last)",
      "\u001b[0;32m<ipython-input-5-14b42f4fea6b>\u001b[0m in \u001b[0;36m<module>\u001b[0;34m\u001b[0m\n\u001b[1;32m      2\u001b[0m \u001b[0ml_CSLbpbSig_CSLp\u001b[0m \u001b[0;34m=\u001b[0m \u001b[0;34m{\u001b[0m\u001b[0;34m}\u001b[0m\u001b[0;34m\u001b[0m\u001b[0;34m\u001b[0m\u001b[0m\n\u001b[1;32m      3\u001b[0m \u001b[0;34m\u001b[0m\u001b[0m\n\u001b[0;32m----> 4\u001b[0;31m \u001b[0ml_CSLbpb_CSLp_mat\u001b[0m \u001b[0;34m=\u001b[0m \u001b[0mghi\u001b[0m\u001b[0;34m.\u001b[0m\u001b[0mcompute_hkl_bpb\u001b[0m\u001b[0;34m(\u001b[0m\u001b[0mhkl1\u001b[0m\u001b[0;34m)\u001b[0m\u001b[0;34m\u001b[0m\u001b[0;34m\u001b[0m\u001b[0m\n\u001b[0m\u001b[1;32m      5\u001b[0m \u001b[0ml_CSLbpbSig_CSLp_mat\u001b[0m \u001b[0;34m=\u001b[0m \u001b[0mghi\u001b[0m\u001b[0;34m.\u001b[0m\u001b[0mgen_Acut_bpb\u001b[0m\u001b[0;34m(\u001b[0m\u001b[0ml_CSLbpb_CSLp_mat\u001b[0m\u001b[0;34m,\u001b[0m \u001b[0ml_csl_po1\u001b[0m\u001b[0;34m,\u001b[0m \u001b[0mrCut\u001b[0m\u001b[0;34m,\u001b[0m \u001b[0mA_cut\u001b[0m\u001b[0;34m)\u001b[0m\u001b[0;34m\u001b[0m\u001b[0;34m\u001b[0m\u001b[0m\n\u001b[1;32m      6\u001b[0m \u001b[0;34m\u001b[0m\u001b[0m\n",
      "\u001b[0;32m~/Leila_sndhard/codes/gbpy/gbpy/gbpy/generate_hkl_indices.py\u001b[0m in \u001b[0;36mcompute_hkl_bpb\u001b[0;34m(hkl_inds)\u001b[0m\n\u001b[1;32m    237\u001b[0m         \u001b[0mhkl1\u001b[0m \u001b[0;34m=\u001b[0m \u001b[0mhkl_inds\u001b[0m\u001b[0;34m[\u001b[0m\u001b[0mct1\u001b[0m\u001b[0;34m]\u001b[0m\u001b[0;34m\u001b[0m\u001b[0;34m\u001b[0m\u001b[0m\n\u001b[1;32m    238\u001b[0m         \u001b[0mhkl1\u001b[0m \u001b[0;34m=\u001b[0m \u001b[0mhkl1\u001b[0m\u001b[0;34m.\u001b[0m\u001b[0mastype\u001b[0m\u001b[0;34m(\u001b[0m\u001b[0mint\u001b[0m\u001b[0;34m)\u001b[0m\u001b[0;34m\u001b[0m\u001b[0;34m\u001b[0m\u001b[0m\n\u001b[0;32m--> 239\u001b[0;31m         \u001b[0mbp1\u001b[0m \u001b[0;34m=\u001b[0m \u001b[0mbpb\u001b[0m\u001b[0;34m.\u001b[0m\u001b[0mbp_basis\u001b[0m\u001b[0;34m(\u001b[0m\u001b[0mhkl1\u001b[0m\u001b[0;34m)\u001b[0m\u001b[0;34m\u001b[0m\u001b[0;34m\u001b[0m\u001b[0m\n\u001b[0m\u001b[1;32m    240\u001b[0m         \u001b[0ma_vec\u001b[0m \u001b[0;34m=\u001b[0m \u001b[0mbp1\u001b[0m\u001b[0;34m[\u001b[0m\u001b[0;34m:\u001b[0m\u001b[0;34m,\u001b[0m\u001b[0;36m0\u001b[0m\u001b[0;34m]\u001b[0m\u001b[0;34m\u001b[0m\u001b[0;34m\u001b[0m\u001b[0m\n\u001b[1;32m    241\u001b[0m         \u001b[0mb_vec\u001b[0m \u001b[0;34m=\u001b[0m \u001b[0mbp1\u001b[0m\u001b[0;34m[\u001b[0m\u001b[0;34m:\u001b[0m\u001b[0;34m,\u001b[0m\u001b[0;36m1\u001b[0m\u001b[0;34m]\u001b[0m\u001b[0;34m\u001b[0m\u001b[0;34m\u001b[0m\u001b[0m\n",
      "\u001b[0;32m~/Leila_sndhard/codes/byxtal/byxtal/byxtal/bp_basis.py\u001b[0m in \u001b[0;36mbp_basis\u001b[0;34m(miller_ind)\u001b[0m\n\u001b[1;32m    205\u001b[0m     \u001b[0;31m#  The reduced basis vectors for the plane\u001b[0m\u001b[0;34m\u001b[0m\u001b[0;34m\u001b[0m\u001b[0;34m\u001b[0m\u001b[0m\n\u001b[1;32m    206\u001b[0m     \u001b[0mTmat\u001b[0m \u001b[0;34m=\u001b[0m \u001b[0mnp\u001b[0m\u001b[0;34m.\u001b[0m\u001b[0marray\u001b[0m\u001b[0;34m(\u001b[0m\u001b[0mnp\u001b[0m\u001b[0;34m.\u001b[0m\u001b[0mcolumn_stack\u001b[0m\u001b[0;34m(\u001b[0m\u001b[0;34m[\u001b[0m\u001b[0mbv1_g1\u001b[0m\u001b[0;34m,\u001b[0m \u001b[0mbv2_g1\u001b[0m\u001b[0;34m]\u001b[0m\u001b[0;34m)\u001b[0m\u001b[0;34m,\u001b[0m \u001b[0mdtype\u001b[0m\u001b[0;34m=\u001b[0m\u001b[0;34m'int64'\u001b[0m\u001b[0;34m)\u001b[0m\u001b[0;34m\u001b[0m\u001b[0;34m\u001b[0m\u001b[0m\n\u001b[0;32m--> 207\u001b[0;31m     \u001b[0ml_pl_g1\u001b[0m \u001b[0;34m=\u001b[0m \u001b[0mlt\u001b[0m\u001b[0;34m.\u001b[0m\u001b[0mlll_reduction\u001b[0m\u001b[0;34m(\u001b[0m\u001b[0mTmat\u001b[0m\u001b[0;34m)\u001b[0m\u001b[0;34m\u001b[0m\u001b[0;34m\u001b[0m\u001b[0m\n\u001b[0m\u001b[1;32m    208\u001b[0m     \u001b[0;32mreturn\u001b[0m \u001b[0ml_pl_g1\u001b[0m\u001b[0;34m\u001b[0m\u001b[0;34m\u001b[0m\u001b[0m\n\u001b[1;32m    209\u001b[0m \u001b[0;34m\u001b[0m\u001b[0m\n",
      "\u001b[0;32m~/Leila_sndhard/codes/byxtal/byxtal/byxtal/lll_tools.py\u001b[0m in \u001b[0;36mlll_reduction\u001b[0;34m(int_mat)\u001b[0m\n\u001b[1;32m    107\u001b[0m     \u001b[0minp_args\u001b[0m \u001b[0;34m=\u001b[0m \u001b[0;34m{\u001b[0m\u001b[0;34m}\u001b[0m\u001b[0;34m\u001b[0m\u001b[0;34m\u001b[0m\u001b[0m\n\u001b[1;32m    108\u001b[0m     \u001b[0minp_args\u001b[0m\u001b[0;34m[\u001b[0m\u001b[0;34m'mat'\u001b[0m\u001b[0;34m]\u001b[0m \u001b[0;34m=\u001b[0m \u001b[0mint_mat\u001b[0m\u001b[0;34m\u001b[0m\u001b[0;34m\u001b[0m\u001b[0m\n\u001b[0;32m--> 109\u001b[0;31m     \u001b[0mlll_int_mat\u001b[0m \u001b[0;34m=\u001b[0m \u001b[0mrpl\u001b[0m\u001b[0;34m.\u001b[0m\u001b[0mcall_sage_math\u001b[0m\u001b[0;34m(\u001b[0m\u001b[0mexec_str\u001b[0m\u001b[0;34m,\u001b[0m \u001b[0minp_args\u001b[0m\u001b[0;34m)\u001b[0m\u001b[0;34m\u001b[0m\u001b[0;34m\u001b[0m\u001b[0m\n\u001b[0m\u001b[1;32m    110\u001b[0m     \u001b[0;32mreturn\u001b[0m \u001b[0mlll_int_mat\u001b[0m\u001b[0;34m\u001b[0m\u001b[0;34m\u001b[0m\u001b[0m\n\u001b[1;32m    111\u001b[0m \u001b[0;34m\u001b[0m\u001b[0m\n",
      "\u001b[0;32m~/Leila_sndhard/codes/byxtal/byxtal/byxtal/reduce_po_lat.py\u001b[0m in \u001b[0;36mcall_sage_math\u001b[0;34m(exec_str, inp_args)\u001b[0m\n\u001b[1;32m     36\u001b[0m     \u001b[0;32mfor\u001b[0m \u001b[0mi1\u001b[0m \u001b[0;32min\u001b[0m \u001b[0mrange\u001b[0m\u001b[0;34m(\u001b[0m\u001b[0mSz\u001b[0m\u001b[0;34m[\u001b[0m\u001b[0;36m0\u001b[0m\u001b[0;34m]\u001b[0m\u001b[0;34m)\u001b[0m\u001b[0;34m:\u001b[0m\u001b[0;34m\u001b[0m\u001b[0;34m\u001b[0m\u001b[0m\n\u001b[1;32m     37\u001b[0m         \u001b[0;32mfor\u001b[0m \u001b[0mj1\u001b[0m \u001b[0;32min\u001b[0m \u001b[0mrange\u001b[0m\u001b[0;34m(\u001b[0m\u001b[0mSz\u001b[0m\u001b[0;34m[\u001b[0m\u001b[0;36m1\u001b[0m\u001b[0;34m]\u001b[0m\u001b[0;34m)\u001b[0m\u001b[0;34m:\u001b[0m\u001b[0;34m\u001b[0m\u001b[0;34m\u001b[0m\u001b[0m\n\u001b[0;32m---> 38\u001b[0;31m             \u001b[0mM_out\u001b[0m\u001b[0;34m[\u001b[0m\u001b[0mi1\u001b[0m\u001b[0;34m,\u001b[0m \u001b[0mj1\u001b[0m\u001b[0;34m]\u001b[0m \u001b[0;34m=\u001b[0m \u001b[0mint\u001b[0m\u001b[0;34m(\u001b[0m\u001b[0mstr_out\u001b[0m\u001b[0;34m[\u001b[0m\u001b[0mct1\u001b[0m\u001b[0;34m]\u001b[0m\u001b[0;34m)\u001b[0m\u001b[0;34m\u001b[0m\u001b[0;34m\u001b[0m\u001b[0m\n\u001b[0m\u001b[1;32m     39\u001b[0m             \u001b[0mct1\u001b[0m \u001b[0;34m=\u001b[0m \u001b[0mct1\u001b[0m \u001b[0;34m+\u001b[0m \u001b[0;36m1\u001b[0m\u001b[0;34m\u001b[0m\u001b[0;34m\u001b[0m\u001b[0m\n\u001b[1;32m     40\u001b[0m \u001b[0;34m\u001b[0m\u001b[0m\n",
      "\u001b[0;31mIndexError\u001b[0m: list index out of range"
     ]
    }
   ],
   "source": [
    "l_CSLbpb_CSLp = {}\n",
    "l_CSLbpbSig_CSLp = {}\n",
    "\n",
    "l_CSLbpb_CSLp_mat = ghi.compute_hkl_bpb(hkl1)\n",
    "l_CSLbpbSig_CSLp_mat = ghi.gen_Acut_bpb(l_CSLbpb_CSLp_mat, l_csl_po1, rCut, A_cut)\n",
    "\n",
    "l_Cbpb_Cp  = l_CSLbpb_CSLp_mat[0]\n",
    "l_CRbpb_Cp = l_CSLbpbSig_CSLp_mat[0]\n",
    "\n",
    "l_bp_po1 = l_csl_po1.dot(l_CRbpb_Cp)\n",
    "\n",
    "symm_grp_ax = bxt_symm_props[sig_id]['symm_grp_ax'];\n",
    "bp_symm_grp = bxt_symm_props[sig_id]['bxt_symm_grp'];\n",
    "\n",
    "l_p2_p1 = sig_mats[sig_id]\n",
    "gb_ID = uf.get_gb_uID(l1, l_bp_po1, l_p2_p1, l_p_po, bp_symm_grp, symm_grp_ax, sig_id)"
   ]
  },
  {
   "cell_type": "code",
   "execution_count": 36,
   "metadata": {},
   "outputs": [
    {
     "data": {
      "text/plain": [
       "array([-270.64125,   24.60375,   24.60375])"
      ]
     },
     "execution_count": 36,
     "metadata": {},
     "output_type": "execute_result"
    }
   ],
   "source": [
    "np.cross(l_bp_po1[:,0], l_bp_po1[:,1])"
   ]
  },
  {
   "cell_type": "code",
   "execution_count": 18,
   "metadata": {},
   "outputs": [],
   "source": [
    "zCut = 25*l1.lat_params['a']\n",
    "\n",
    "threeD_upts, sim_cell2 = uf.create_half_cryst(l_csl_p1, l_CRbpb_Cp, l_p_po, 'upper', zCut)\n",
    "\n",
    "l_p1_p2 = nla.inv(l_p2_p1)\n",
    "l_csl_p2 = l_p1_p2.dot(l_csl_p1)\n",
    "threeD_lpts, sim_cell1 = uf.create_half_cryst(l_csl_p2, l_CRbpb_Cp, l_p_po, 'lower', zCut)\n"
   ]
  },
  {
   "cell_type": "code",
   "execution_count": 19,
   "metadata": {},
   "outputs": [],
   "source": [
    "gb_attr = {}\n",
    "gb_attr['cell'] = sim_cell1\n",
    "gb_attr['upts'] = threeD_upts\n",
    "gb_attr['lpts'] = threeD_lpts\n",
    "\n",
    "pkl_name = 'gb_attr_'+gb_ID+'.pkl'\n",
    "jar = open(pkl_name,'wb')\n",
    "pkl.dump(gb_attr, jar)\n",
    "jar.close()"
   ]
  },
  {
   "cell_type": "code",
   "execution_count": 9,
   "metadata": {},
   "outputs": [
    {
     "data": {
      "image/png": "[encoded data removed]",
      "text/plain": [
       "<Figure size 432x288 with 1 Axes>"
      ]
     },
     "metadata": {
      "needs_background": "light"
     },
     "output_type": "display_data"
    }
   ],
   "source": [
    "import matplotlib\n",
    "import numpy as np\n",
    "import matplotlib.pyplot as plt\n",
    "import plotting_routines as plr\n",
    "%matplotlib inline\n",
    "\n",
    "threeD_pts = np.vstack((threeD_upts, threeD_lpts))\n",
    "sim_orig = sim_cell1[:,3]\n",
    "sim_cell = sim_cell1[:,0:3]\n",
    "fig1 = plt.figure()\n",
    "plr.plot_3d_pts_box(fig1, threeD_pts, sim_cell, sim_orig)\n",
    "plt.show()\n"
   ]
  },
  {
   "cell_type": "code",
   "execution_count": 10,
   "metadata": {},
   "outputs": [
    {
     "data": {
      "text/plain": [
       "{'a': 4.05,\n",
       " 'b': 4.05,\n",
       " 'c': 4.05,\n",
       " 'alpha': 1.5707963267948966,\n",
       " 'beta': 1.5707963267948966,\n",
       " 'gamma': 1.5707963267948966}"
      ]
     },
     "execution_count": 10,
     "metadata": {},
     "output_type": "execute_result"
    }
   ],
   "source": [
    "l1.lat_params"
   ]
  },
  {
   "cell_type": "code",
   "execution_count": null,
   "metadata": {},
   "outputs": [],
   "source": []
  },
  {
   "cell_type": "code",
   "execution_count": 12,
   "metadata": {},
   "outputs": [],
   "source": [
    "import os\n",
    "import byxtal\n",
    "# path = os.path.dirname(byxtal.__file__)+'/tests/';\n",
    "path = os.path.dirname(byxtal.__file__)+'/data_files/'\n",
    "csl_pkl = path+l1.pearson+'_Id_csl_common_rotations.pkl'\n",
    "jar = open(csl_pkl,'rb')\n",
    "s1=pkl.load(jar)\n",
    "jar.close()"
   ]
  },
  {
   "cell_type": "code",
   "execution_count": 3,
   "metadata": {},
   "outputs": [],
   "source": []
  },
  {
   "cell_type": "code",
   "execution_count": 13,
   "metadata": {},
   "outputs": [
    {
     "ename": "NameError",
     "evalue": "name 't_num' is not defined",
     "output_type": "error",
     "traceback": [
      "\u001b[0;31m---------------------------------------------------------------------------\u001b[0m",
      "\u001b[0;31mNameError\u001b[0m                                 Traceback (most recent call last)",
      "\u001b[0;32m<ipython-input-13-897782b7ce51>\u001b[0m in \u001b[0;36m<module>\u001b[0;34m\u001b[0m\n\u001b[1;32m      1\u001b[0m \u001b[0mtct1\u001b[0m \u001b[0;34m=\u001b[0m \u001b[0;36m3\u001b[0m\u001b[0;34m\u001b[0m\u001b[0;34m\u001b[0m\u001b[0m\n\u001b[0;32m----> 2\u001b[0;31m \u001b[0mt1_num\u001b[0m \u001b[0;34m=\u001b[0m \u001b[0mt_num\u001b[0m\u001b[0;34m[\u001b[0m\u001b[0mtct1\u001b[0m\u001b[0;34m]\u001b[0m\u001b[0;34m\u001b[0m\u001b[0;34m\u001b[0m\u001b[0m\n\u001b[0m\u001b[1;32m      3\u001b[0m \u001b[0mbpn_po1\u001b[0m \u001b[0;34m=\u001b[0m \u001b[0mbpn_list\u001b[0m\u001b[0;34m[\u001b[0m\u001b[0mtct1\u001b[0m\u001b[0;34m]\u001b[0m\u001b[0;34m\u001b[0m\u001b[0;34m\u001b[0m\u001b[0m\n\u001b[1;32m      4\u001b[0m \u001b[0;34m\u001b[0m\u001b[0m\n\u001b[1;32m      5\u001b[0m \u001b[0msig_id\u001b[0m \u001b[0;34m=\u001b[0m \u001b[0ms1_keys\u001b[0m\u001b[0;34m[\u001b[0m\u001b[0mt1_num\u001b[0m\u001b[0;34m]\u001b[0m\u001b[0;34m\u001b[0m\u001b[0;34m\u001b[0m\u001b[0m\n",
      "\u001b[0;31mNameError\u001b[0m: name 't_num' is not defined"
     ]
    }
   ],
   "source": [
    "tct1 = 3\n",
    "t1_num = t_num[tct1]\n",
    "bpn_po1 = bpn_list[tct1]\n",
    "\n",
    "sig_id = s1_keys[t1_num]\n",
    "print(\"Sig ID: \"+ str(t1_num) + \" -- \"+ sig_id)\n",
    " "
   ]
  },
  {
   "cell_type": "code",
   "execution_count": 14,
   "metadata": {},
   "outputs": [
    {
     "ename": "NameError",
     "evalue": "name 't1_num' is not defined",
     "output_type": "error",
     "traceback": [
      "\u001b[0;31m---------------------------------------------------------------------------\u001b[0m",
      "\u001b[0;31mNameError\u001b[0m                                 Traceback (most recent call last)",
      "\u001b[0;32m<ipython-input-14-1854f955e549>\u001b[0m in \u001b[0;36m<module>\u001b[0;34m\u001b[0m\n\u001b[1;32m      5\u001b[0m \u001b[0;31m##############################################################################\u001b[0m\u001b[0;34m\u001b[0m\u001b[0;34m\u001b[0m\u001b[0;34m\u001b[0m\u001b[0m\n\u001b[1;32m      6\u001b[0m \u001b[0;31m#### From MBP\u001b[0m\u001b[0;34m\u001b[0m\u001b[0;34m\u001b[0m\u001b[0;34m\u001b[0m\u001b[0m\n\u001b[0;32m----> 7\u001b[0;31m \u001b[0msig_id\u001b[0m \u001b[0;34m=\u001b[0m \u001b[0ms1_keys\u001b[0m\u001b[0;34m[\u001b[0m\u001b[0mt1_num\u001b[0m\u001b[0;34m]\u001b[0m\u001b[0;34m\u001b[0m\u001b[0;34m\u001b[0m\u001b[0m\n\u001b[0m\u001b[1;32m      8\u001b[0m \u001b[0ml_rp_po\u001b[0m \u001b[0;34m=\u001b[0m \u001b[0mfcd\u001b[0m\u001b[0;34m.\u001b[0m\u001b[0mreciprocal_mat\u001b[0m\u001b[0;34m(\u001b[0m\u001b[0ml_csl_po1\u001b[0m\u001b[0;34m)\u001b[0m\u001b[0;34m\u001b[0m\u001b[0;34m\u001b[0m\u001b[0m\n\u001b[1;32m      9\u001b[0m \u001b[0ml_po_rp\u001b[0m \u001b[0;34m=\u001b[0m \u001b[0mnla\u001b[0m\u001b[0;34m.\u001b[0m\u001b[0minv\u001b[0m\u001b[0;34m(\u001b[0m\u001b[0ml_rp_po\u001b[0m\u001b[0;34m)\u001b[0m\u001b[0;34m\u001b[0m\u001b[0;34m\u001b[0m\u001b[0m\n",
      "\u001b[0;31mNameError\u001b[0m: name 't1_num' is not defined"
     ]
    }
   ],
   "source": [
    "\n",
    "l_csl_p1 = csl_mats[sig_id];\n",
    "l_csl_po1 = l_p_po.dot(l_csl_p1)\n",
    "\n",
    "\n",
    "##############################################################################\n",
    "#### From MBP\n",
    "sig_id = s1_keys[t1_num]\n",
    "l_rp_po = fcd.reciprocal_mat(l_csl_po1)\n",
    "l_po_rp = nla.inv(l_rp_po)\n",
    "norm_uvec = bpn_po1/bpn_po1.norm()\n",
    "n1_rp = l_po_rp*norm_uvec\n",
    "hkl_ind = iman.int_finder(n1_rp)\n",
    "hkl1 = (np.array(hkl_ind, dtype='double')).T\n",
    "\n",
    "import gbpy.generate_hkl_indices as ghi\n",
    "# l_CSLbpb_CSLp = ghi.compute_hkl_bpb(hkl1);\n",
    "l_Cbpb_Cp = ghi.compute_hkl_bpb(hkl1)\n",
    "l_CSLbpbSig_CSLp = ghi.gen_Acut_bpb(l_Cbpb_Cp, l_csl_po1, rCut, A_cut)\n",
    "l_CRbpb_Cp=l_CSLbpbSig_CSLp[0]\n",
    "\n",
    "##############################################################################\n",
    "\n",
    "l_bp_po1 = l_csl_po1*l_CRbpb_Cp;\n",
    "\n",
    "symm_grp_ax = csl_bp_props[sigr_id]['symm_grp_ax'];\n",
    "bp_symm_grp = csl_bp_props[sig_id]['bp_symm_grp'];\n",
    "\n",
    "l_p2_p1 = Matrix(sig_mats[sig_id]);\n",
    "gb_ID = uf.get_gb_uID(l_bp_po1, l_p2_p1, l_p_po, bp_symm_grp, symm_grp_ax, sig_id);\n",
    "print(gb_ID);"
   ]
  },
  {
   "cell_type": "code",
   "execution_count": 6,
   "metadata": {},
   "outputs": [],
   "source": [
    "zCut = 25*l1.lat_params['a'];\n",
    "\n",
    "threeD_upts, sim_cell2 = uf.create_half_cryst(l_csl_p1, l_CRbpb_Cp, l_p_po, 'upper', zCut)\n",
    "\n",
    "l_p1_p2 = l_p2_p1.inv(); l_csl_p2 = l_p1_p2*l_csl_p1;\n",
    "threeD_lpts, sim_cell1 = uf.create_half_cryst(l_csl_p2, l_CRbpb_Cp, l_p_po, 'lower', zCut)\n",
    "\n",
    "pkl_name = 'gb_attr_'+gb_ID+'.pkl';\n",
    "jar = open(pkl_name,'wb'); pkl.dump(gb_attr, jar); jar.close();\n",
    "\n",
    "gb_attr = {};\n",
    "gb_attr['cell'] = sim_cell1;\n",
    "gb_attr['upts'] = threeD_upts;\n",
    "gb_attr['lpts'] = threeD_lpts;"
   ]
  },
  {
   "cell_type": "code",
   "execution_count": null,
   "metadata": {},
   "outputs": [],
   "source": []
  },
  {
   "cell_type": "markdown",
   "metadata": {},
   "source": [
    "### Convert CSL-BP to \n",
    "\n",
    "The boundary-plane can be described in different lattices and conventions\n",
    "\n",
    "1. As planar Miller-indices in $\\mathcal{B}_{csl}$\n",
    "2. As planar Miller-indices in $\\mathcal{B}_{p}$\n",
    "3. As planar Miller-indices in $\\mathcal{B}_{po}$\n",
    "4. As direction Miller-indices of the normal vector in $\\mathcal{B}_{p}$\n",
    "5. As direction Miller-indices of the normal vector in $\\mathcal{B}_{po}$\n"
   ]
  },
  {
   "cell_type": "code",
   "execution_count": null,
   "metadata": {},
   "outputs": [],
   "source": []
  },
  {
   "cell_type": "markdown",
   "metadata": {},
   "source": [
    "### If we want the global Y-axis to be perpendicular to the GB"
   ]
  },
  {
   "cell_type": "code",
   "execution_count": 7,
   "metadata": {},
   "outputs": [],
   "source": [
    "### Points with Y-axis perpendicular to the GB\n",
    "rot_mat = np.array([[1.0, 0, 0], [0, 0.0, -1.0], [0, 1.0, 0.0]])\n",
    "threeD_lypts = (np.dot(rot_mat, threeD_upts.transpose())).transpose();\n",
    "threeD_uypts = (np.dot(rot_mat, threeD_lpts.transpose())).transpose();\n",
    "\n",
    "sim_cell2 = 0*sim_cell1\n",
    "sim_cell2[:,0] = sim_cell1[:,0]\n",
    "\n",
    "sim_cell2[0,1] = sim_cell1[0,2]\n",
    "sim_cell2[1,1] = sim_cell1[2,2]\n",
    "sim_cell2[2,1] = sim_cell1[1,2]\n",
    "\n",
    "sim_cell2[0,2] = sim_cell1[0,1]\n",
    "sim_cell2[1,2] = sim_cell1[2,1]\n",
    "sim_cell2[2,2] = sim_cell1[1,1]\n",
    "sim_cell2[1,3] = sim_cell1[2,3]\n",
    "\n",
    "gbY_attr = {};\n",
    "gbY_attr['cell'] = sim_cell2;\n",
    "gbY_attr['upts'] = threeD_lypts;\n",
    "gbY_attr['lpts'] = threeD_uypts;\n",
    "\n",
    "pkl_name = 'gbY_attr_'+gb_ID+'.pkl';\n",
    "jar = open(pkl_name,'wb'); pkl.dump(gbY_attr, jar); jar.close();"
   ]
  }
 ],
 "metadata": {
  "kernelspec": {
   "display_name": "Python 3",
   "language": "python",
   "name": "python3"
  },
  "language_info": {
   "codemirror_mode": {
    "name": "ipython",
    "version": 3
   },
   "file_extension": ".py",
   "mimetype": "text/x-python",
   "name": "python",
   "nbconvert_exporter": "python",
   "pygments_lexer": "ipython3",
   "version": "3.6.9"
  }
 },
 "nbformat": 4,
 "nbformat_minor": 4
}
