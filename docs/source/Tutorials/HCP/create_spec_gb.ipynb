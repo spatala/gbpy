{
 "cells": [
  {
   "cell_type": "code",
   "execution_count": 38,
   "metadata": {},
   "outputs": [],
   "source": [
    "import gbpy.hcp_conv as conv\n",
    "import gbpy.byxtal.tools as gbt\n",
    "import gbpy.byxtal.lattice as gbl\n",
    "import pickle as pkl\n",
    "import numpy as np\n",
    "import numpy.linalg as nla\n",
    "import gbpy.byxtal.misorient_fz as mfz\n",
    "import gbpy.generate_hkl_indices as ghi\n",
    "import gbpy.util_funcs_create_byxtal as uf\n",
    "import gbpy.byxtal.find_csl_dsc as fcd\n",
    "import gbpy.byxtal.integer_manipulations as iman"
   ]
  },
  {
   "cell_type": "code",
   "execution_count": 44,
   "metadata": {},
   "outputs": [],
   "source": [
    "u = -1\n",
    "v = 0\n",
    "l = 1\n",
    "w = 3\n",
    "h, k, l = conv.hcp2orth(u, v, l, w)\n",
    "hkl1 = np.array([[h, k, l]])"
   ]
  },
  {
   "cell_type": "code",
   "execution_count": 45,
   "metadata": {},
   "outputs": [
    {
     "name": "stdout",
     "output_type": "stream",
     "text": [
      "[[       0 -1700688   904601]]\n"
     ]
    }
   ],
   "source": [
    "p_n = [0, -1, 1]\n",
    "\n",
    "l_rp_po = fcd.reciprocal_mat(l_p_po)\n",
    "l_po_rp = nla.inv(l_rp_po)\n",
    "n_po = np.array([p_n[0], p_n[1], p_n[2]])\n",
    "n_rp = l_rp_po.dot(n_po)/l1.lat_params['a']\n",
    "\n",
    "ni_rp = iman.int_finder(n_rp)\n",
    "hkl1 = ni_rp.reshape(1,3)\n",
    "print(hkl1)"
   ]
  },
  {
   "cell_type": "code",
   "execution_count": 46,
   "metadata": {},
   "outputs": [],
   "source": [
    "########################################################################\n",
    "l1=gbl.Lattice('Mg_sun')\n",
    "lat_par = l1.lat_params['a']\n",
    "rCut = lat_par*3\n",
    "A_cut = (rCut+lat_par)**2\n",
    "\n",
    "l_p_po = l1.l_p_po\n",
    "l_po_p = nla.inv(l_p_po)"
   ]
  },
  {
   "cell_type": "code",
   "execution_count": 47,
   "metadata": {},
   "outputs": [],
   "source": [
    "pkl_name_prop = l1.elem_type+'_byxtal_props.pkl'\n",
    "jar = open(pkl_name_prop, 'rb');\n",
    "\n",
    "csl_props = pkl.load(jar)\n",
    "sig_mats = csl_props['sig_mats']\n",
    "csl_mats = csl_props['csl_mats']\n",
    "dsc_mats = csl_props['dsc_mats']\n",
    "bxt_symm_props = csl_props['csl_symm_props']\n",
    "jar.close()\n",
    "\n",
    "pkl_name_ind = 'bp_list_' + l1.elem_type + '.pkl'\n",
    "jar = open(pkl_name_ind, 'rb');\n",
    "\n",
    "bp_list = pkl.load(jar)\n",
    "l_p_po = bp_list['l_p_po']\n",
    "hkl_sig_inds = bp_list['miller_inds']\n",
    "jar.close()"
   ]
  },
  {
   "cell_type": "code",
   "execution_count": 32,
   "metadata": {},
   "outputs": [],
   "source": [
    "# symmetrize symm_fz_hkl(l_csl_props, hkl_inds2)"
   ]
  },
  {
   "cell_type": "code",
   "execution_count": 48,
   "metadata": {},
   "outputs": [
    {
     "name": "stdout",
     "output_type": "stream",
     "text": [
      "7_1\n",
      "Mg_S7_1_N1_187_162_603_N2_-2052_-711_-5293\n"
     ]
    }
   ],
   "source": [
    "s1_keys = list(hkl_sig_inds.keys())\n",
    "ind1 = 0\n",
    "sig_id = s1_keys[ind1]\n",
    "print(sig_id)\n",
    "hkl_inds = hkl_sig_inds[sig_id]\n",
    "l_csl_p1 = csl_mats[sig_id]\n",
    "l_csl_po1 = l_p_po.dot(l_csl_p1)\n",
    "tct1 = 1\n",
    "hkl1 = np.zeros((1,3), dtype='int64')\n",
    "hkl1[0,:] = hkl_inds[tct1,:]\n",
    "\n",
    "l_CSLbpb_CSLp_mat = ghi.compute_hkl_bpb(hkl1)\n",
    "l_CSLbpbSig_CSLp_mat = ghi.gen_Acut_bpb(l_CSLbpb_CSLp_mat, l_csl_po1, rCut, A_cut)\n",
    "\n",
    "l_Cbpb_Cp  = l_CSLbpb_CSLp_mat[0]\n",
    "l_CRbpb_Cp = l_CSLbpbSig_CSLp_mat[0]\n",
    "\n",
    "l_bp_po1 = l_csl_po1.dot(l_CRbpb_Cp)\n",
    "\n",
    "symm_grp_ax = bxt_symm_props[sig_id]['symm_grp_ax'];\n",
    "bp_symm_grp = bxt_symm_props[sig_id]['bxt_symm_grp'];\n",
    "\n",
    "l_p2_p1 = sig_mats[sig_id]\n",
    "gb_ID = uf.get_gb_uID(l1, l_bp_po1, l_p2_p1, l_p_po, bp_symm_grp, symm_grp_ax, sig_id)\n",
    "print(gb_ID)"
   ]
  },
  {
   "cell_type": "markdown",
   "metadata": {},
   "source": [
    "The simulated gb in the paper is $[\\bar{1}013]$ with tilt axis $[1\\bar{2}10]$.\n",
    "\n",
    "- find $[1\\bar{2}10]$ in primitive basis ==> tilt_p\n",
    "- rotate titl_p to po ==> tilt_po\n",
    "- calculate the angle between $[187, 162, 603]$ with tilt_po"
   ]
  },
  {
   "cell_type": "code",
   "execution_count": null,
   "metadata": {},
   "outputs": [],
   "source": []
  }
 ],
 "metadata": {
  "kernelspec": {
   "display_name": "Python 3",
   "language": "python",
   "name": "python3"
  },
  "language_info": {
   "codemirror_mode": {
    "name": "ipython",
    "version": 3
   },
   "file_extension": ".py",
   "mimetype": "text/x-python",
   "name": "python",
   "nbconvert_exporter": "python",
   "pygments_lexer": "ipython3",
   "version": "3.8.5"
  }
 },
 "nbformat": 4,
 "nbformat_minor": 4
}
